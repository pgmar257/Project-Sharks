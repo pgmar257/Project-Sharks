{
 "cells": [
  {
   "cell_type": "markdown",
   "id": "a9d4da7e-8df6-48dc-b119-a0ff05847d92",
   "metadata": {},
   "source": [
    "HIPOTESIS: El género afecta si acaba en muerte"
   ]
  },
  {
   "cell_type": "code",
   "execution_count": 1,
   "id": "76b08a62-42d9-4d81-8346-83330d2f6a57",
   "metadata": {},
   "outputs": [],
   "source": [
    "#importaciones\n",
    "import pandas as pd"
   ]
  },
  {
   "cell_type": "code",
   "execution_count": 2,
   "id": "e6100cf9-0c0d-472a-9d6b-c63f808b3a4a",
   "metadata": {},
   "outputs": [],
   "source": [
    "data = pd.read_csv('../data/clean_data.csv', low_memory=False, encoding= \"ISO-8859-1\")"
   ]
  },
  {
   "cell_type": "code",
   "execution_count": 3,
   "id": "ab5e3751-34ef-4fea-ae2f-83aed8a18dc6",
   "metadata": {},
   "outputs": [
    {
     "data": {
      "text/html": [
       "<div>\n",
       "<style scoped>\n",
       "    .dataframe tbody tr th:only-of-type {\n",
       "        vertical-align: middle;\n",
       "    }\n",
       "\n",
       "    .dataframe tbody tr th {\n",
       "        vertical-align: top;\n",
       "    }\n",
       "\n",
       "    .dataframe thead th {\n",
       "        text-align: right;\n",
       "    }\n",
       "</style>\n",
       "<table border=\"1\" class=\"dataframe\">\n",
       "  <thead>\n",
       "    <tr style=\"text-align: right;\">\n",
       "      <th></th>\n",
       "      <th>Case Number</th>\n",
       "      <th>Year</th>\n",
       "      <th>Type</th>\n",
       "      <th>Country</th>\n",
       "      <th>Area</th>\n",
       "      <th>Location</th>\n",
       "      <th>Activity</th>\n",
       "      <th>Name</th>\n",
       "      <th>Sex</th>\n",
       "      <th>Injury</th>\n",
       "      <th>Fatal (Y/N)</th>\n",
       "      <th>Time</th>\n",
       "      <th>Species</th>\n",
       "      <th>Age</th>\n",
       "      <th>Month</th>\n",
       "      <th>date_sum</th>\n",
       "      <th>Date</th>\n",
       "    </tr>\n",
       "  </thead>\n",
       "  <tbody>\n",
       "    <tr>\n",
       "      <th>0</th>\n",
       "      <td>2018.06.25</td>\n",
       "      <td>2018</td>\n",
       "      <td>Boating</td>\n",
       "      <td>USA</td>\n",
       "      <td>California</td>\n",
       "      <td>Oceanside, San Diego County</td>\n",
       "      <td>Paddling</td>\n",
       "      <td>Julie Wolfe</td>\n",
       "      <td>F</td>\n",
       "      <td>No injury to occupant, outrigger canoe and pad...</td>\n",
       "      <td>N</td>\n",
       "      <td>18h00</td>\n",
       "      <td>White shark</td>\n",
       "      <td>57.0</td>\n",
       "      <td>Jun</td>\n",
       "      <td>25-Jun-2018</td>\n",
       "      <td>2018-06-25</td>\n",
       "    </tr>\n",
       "    <tr>\n",
       "      <th>1</th>\n",
       "      <td>2018.06.18</td>\n",
       "      <td>2018</td>\n",
       "      <td>Unprovoked</td>\n",
       "      <td>USA</td>\n",
       "      <td>Georgia</td>\n",
       "      <td>St. Simon Island, Glynn County</td>\n",
       "      <td>Standing</td>\n",
       "      <td>AdysonÂ McNeely</td>\n",
       "      <td>F</td>\n",
       "      <td>Minor injury to left thigh</td>\n",
       "      <td>N</td>\n",
       "      <td>14h00  -15h00</td>\n",
       "      <td>NaN</td>\n",
       "      <td>11.0</td>\n",
       "      <td>Jun</td>\n",
       "      <td>18-Jun-2018</td>\n",
       "      <td>2018-06-18</td>\n",
       "    </tr>\n",
       "  </tbody>\n",
       "</table>\n",
       "</div>"
      ],
      "text/plain": [
       "  Case Number  Year        Type Country        Area  \\\n",
       "0  2018.06.25  2018     Boating     USA  California   \n",
       "1  2018.06.18  2018  Unprovoked     USA     Georgia   \n",
       "\n",
       "                         Location  Activity              Name Sex  \\\n",
       "0     Oceanside, San Diego County  Paddling       Julie Wolfe   F   \n",
       "1  St. Simon Island, Glynn County  Standing  AdysonÂ McNeely    F   \n",
       "\n",
       "                                              Injury Fatal (Y/N)  \\\n",
       "0  No injury to occupant, outrigger canoe and pad...           N   \n",
       "1                         Minor injury to left thigh           N   \n",
       "\n",
       "            Time     Species    Age Month     date_sum        Date  \n",
       "0          18h00  White shark  57.0   Jun  25-Jun-2018  2018-06-25  \n",
       "1  14h00  -15h00          NaN  11.0   Jun  18-Jun-2018  2018-06-18  "
      ]
     },
     "execution_count": 3,
     "metadata": {},
     "output_type": "execute_result"
    }
   ],
   "source": [
    "data.head(2)"
   ]
  },
  {
   "cell_type": "code",
   "execution_count": 4,
   "id": "20903a14-b4dd-4d0b-a7ba-601669231929",
   "metadata": {},
   "outputs": [
    {
     "data": {
      "text/plain": [
       "USA                         2037\n",
       "AUSTRALIA                   1221\n",
       "SOUTH AFRICA                 519\n",
       "NEW ZEALAND                  111\n",
       "BRAZIL                       105\n",
       "                            ... \n",
       "MEXICO                         1\n",
       " PHILIPPINES                   1\n",
       "LIBERIA                        1\n",
       "GRAND CAYMAN                   1\n",
       "Between PORTUGAL & INDIA       1\n",
       "Name: Country, Length: 175, dtype: int64"
      ]
     },
     "execution_count": 4,
     "metadata": {},
     "output_type": "execute_result"
    }
   ],
   "source": [
    "data['Country'].value_counts()"
   ]
  },
  {
   "cell_type": "code",
   "execution_count": 5,
   "id": "9311c9e5-5262-4c7f-a33f-625ab7e693ff",
   "metadata": {},
   "outputs": [],
   "source": [
    "#df_usa = data[data['Country'] == 'USA"
   ]
  },
  {
   "cell_type": "code",
   "execution_count": 6,
   "id": "e327433d-ba42-4c1d-aaa6-5a0c8ce4c8bf",
   "metadata": {},
   "outputs": [],
   "source": [
    "mask_country = (data['Country']  == 'USA') | (data['Country']  == 'AUSTRALIA')\n",
    "\n",
    "\n",
    "data_country = data.loc[mask_country]"
   ]
  },
  {
   "cell_type": "code",
   "execution_count": 7,
   "id": "b82639ce-41c8-4a30-8d9f-b468a0219bd1",
   "metadata": {},
   "outputs": [
    {
     "data": {
      "text/html": [
       "<div>\n",
       "<style scoped>\n",
       "    .dataframe tbody tr th:only-of-type {\n",
       "        vertical-align: middle;\n",
       "    }\n",
       "\n",
       "    .dataframe tbody tr th {\n",
       "        vertical-align: top;\n",
       "    }\n",
       "\n",
       "    .dataframe thead th {\n",
       "        text-align: right;\n",
       "    }\n",
       "</style>\n",
       "<table border=\"1\" class=\"dataframe\">\n",
       "  <thead>\n",
       "    <tr style=\"text-align: right;\">\n",
       "      <th></th>\n",
       "      <th>Case Number</th>\n",
       "      <th>Year</th>\n",
       "      <th>Type</th>\n",
       "      <th>Country</th>\n",
       "      <th>Area</th>\n",
       "      <th>Location</th>\n",
       "      <th>Activity</th>\n",
       "      <th>Name</th>\n",
       "      <th>Sex</th>\n",
       "      <th>Injury</th>\n",
       "      <th>Fatal (Y/N)</th>\n",
       "      <th>Time</th>\n",
       "      <th>Species</th>\n",
       "      <th>Age</th>\n",
       "      <th>Month</th>\n",
       "      <th>date_sum</th>\n",
       "      <th>Date</th>\n",
       "    </tr>\n",
       "  </thead>\n",
       "  <tbody>\n",
       "    <tr>\n",
       "      <th>0</th>\n",
       "      <td>2018.06.25</td>\n",
       "      <td>2018</td>\n",
       "      <td>Boating</td>\n",
       "      <td>USA</td>\n",
       "      <td>California</td>\n",
       "      <td>Oceanside, San Diego County</td>\n",
       "      <td>Paddling</td>\n",
       "      <td>Julie Wolfe</td>\n",
       "      <td>F</td>\n",
       "      <td>No injury to occupant, outrigger canoe and pad...</td>\n",
       "      <td>N</td>\n",
       "      <td>18h00</td>\n",
       "      <td>White shark</td>\n",
       "      <td>57.0</td>\n",
       "      <td>Jun</td>\n",
       "      <td>25-Jun-2018</td>\n",
       "      <td>2018-06-25</td>\n",
       "    </tr>\n",
       "    <tr>\n",
       "      <th>1</th>\n",
       "      <td>2018.06.18</td>\n",
       "      <td>2018</td>\n",
       "      <td>Unprovoked</td>\n",
       "      <td>USA</td>\n",
       "      <td>Georgia</td>\n",
       "      <td>St. Simon Island, Glynn County</td>\n",
       "      <td>Standing</td>\n",
       "      <td>AdysonÂ McNeely</td>\n",
       "      <td>F</td>\n",
       "      <td>Minor injury to left thigh</td>\n",
       "      <td>N</td>\n",
       "      <td>14h00  -15h00</td>\n",
       "      <td>NaN</td>\n",
       "      <td>11.0</td>\n",
       "      <td>Jun</td>\n",
       "      <td>18-Jun-2018</td>\n",
       "      <td>2018-06-18</td>\n",
       "    </tr>\n",
       "  </tbody>\n",
       "</table>\n",
       "</div>"
      ],
      "text/plain": [
       "  Case Number  Year        Type Country        Area  \\\n",
       "0  2018.06.25  2018     Boating     USA  California   \n",
       "1  2018.06.18  2018  Unprovoked     USA     Georgia   \n",
       "\n",
       "                         Location  Activity              Name Sex  \\\n",
       "0     Oceanside, San Diego County  Paddling       Julie Wolfe   F   \n",
       "1  St. Simon Island, Glynn County  Standing  AdysonÂ McNeely    F   \n",
       "\n",
       "                                              Injury Fatal (Y/N)  \\\n",
       "0  No injury to occupant, outrigger canoe and pad...           N   \n",
       "1                         Minor injury to left thigh           N   \n",
       "\n",
       "            Time     Species    Age Month     date_sum        Date  \n",
       "0          18h00  White shark  57.0   Jun  25-Jun-2018  2018-06-25  \n",
       "1  14h00  -15h00          NaN  11.0   Jun  18-Jun-2018  2018-06-18  "
      ]
     },
     "execution_count": 7,
     "metadata": {},
     "output_type": "execute_result"
    }
   ],
   "source": [
    "data_country.head(2)"
   ]
  },
  {
   "cell_type": "code",
   "execution_count": 8,
   "id": "f5e91d38-4680-46d2-9188-f2c6db9d9a6e",
   "metadata": {},
   "outputs": [
    {
     "data": {
      "text/plain": [
       "USA          2037\n",
       "AUSTRALIA    1221\n",
       "Name: Country, dtype: int64"
      ]
     },
     "execution_count": 8,
     "metadata": {},
     "output_type": "execute_result"
    }
   ],
   "source": [
    "data_country['Country'].value_counts()"
   ]
  },
  {
   "cell_type": "code",
   "execution_count": 9,
   "id": "b75638bd-3854-4436-8247-d7f38203a258",
   "metadata": {},
   "outputs": [],
   "source": [
    "mask = (data_country['Date'] > '1990-01-1')\n",
    "\n",
    "df = data_country.loc[mask]"
   ]
  },
  {
   "cell_type": "code",
   "execution_count": null,
   "id": "12ad3d5d-59d2-4509-8974-0fbe34291c52",
   "metadata": {},
   "outputs": [],
   "source": []
  },
  {
   "cell_type": "markdown",
   "id": "f674f46d-9f91-40fc-a7b3-2076164bb7b3",
   "metadata": {},
   "source": [
    "# Hipótesis:"
   ]
  },
  {
   "cell_type": "markdown",
   "id": "7270fcd3-1771-45a2-a020-550469bd0fd8",
   "metadata": {},
   "source": [
    "Una vez limpios los datos comenzamos a trabajar con nuestra hipóstesis:"
   ]
  },
  {
   "cell_type": "markdown",
   "id": "96c71c32-c5cf-49d1-8a64-2406c28ee5d5",
   "metadata": {},
   "source": [
    "¿Cual es el país donde más ataques hay?"
   ]
  },
  {
   "cell_type": "code",
   "execution_count": 10,
   "id": "f06f9356-5950-4489-94be-6cbe4b7a7705",
   "metadata": {},
   "outputs": [
    {
     "data": {
      "text/plain": [
       "USA          1255\n",
       "AUSTRALIA     454\n",
       "Name: Country, dtype: int64"
      ]
     },
     "execution_count": 10,
     "metadata": {},
     "output_type": "execute_result"
    }
   ],
   "source": [
    "df['Country'].value_counts()"
   ]
  },
  {
   "cell_type": "markdown",
   "id": "2d758039-015e-4efb-a497-61d218a0c05d",
   "metadata": {},
   "source": [
    "¿Qué genero resulta ser más atacado por los tiburones?"
   ]
  },
  {
   "cell_type": "code",
   "execution_count": 11,
   "id": "ee5d750f-0c5a-4127-8813-74503e79f361",
   "metadata": {},
   "outputs": [
    {
     "data": {
      "text/plain": [
       "M    1331\n",
       "F     310\n",
       "Name: Sex, dtype: int64"
      ]
     },
     "execution_count": 11,
     "metadata": {},
     "output_type": "execute_result"
    }
   ],
   "source": [
    "df['Sex'].value_counts()"
   ]
  },
  {
   "cell_type": "code",
   "execution_count": 12,
   "id": "12dd5417-5b0b-4768-9a7e-27b0dc85e843",
   "metadata": {},
   "outputs": [
    {
     "data": {
      "text/plain": [
       "<AxesSubplot: >"
      ]
     },
     "execution_count": 12,
     "metadata": {},
     "output_type": "execute_result"
    },
    {
     "data": {
      "image/png": "[encoded data removed]",
      "text/plain": [
       "<Figure size 640x480 with 1 Axes>"
      ]
     },
     "metadata": {},
     "output_type": "display_data"
    }
   ],
   "source": [
    "df['Sex'].value_counts().plot.bar()"
   ]
  },
  {
   "cell_type": "markdown",
   "id": "0b31b0ae-4990-4459-a1f2-bb1e093a81a6",
   "metadata": {},
   "source": [
    "¿Qué tipo de actividad es la más frecuente a la hora de ser atacado?"
   ]
  },
  {
   "cell_type": "code",
   "execution_count": 13,
   "id": "eb7ad6c7-750b-434b-85bd-559d8252037f",
   "metadata": {},
   "outputs": [
    {
     "data": {
      "text/plain": [
       "Surfing                        608\n",
       "Swimming                       217\n",
       "Wading                          78\n",
       "Fishing                         69\n",
       "Spearfishing                    51\n",
       "                              ... \n",
       "Playing soccer in the water      1\n",
       "Diving / Kissing the shark       1\n",
       "Touching sharks                  1\n",
       "Night Surfing                    1\n",
       "Board sailing                    1\n",
       "Name: Activity, Length: 273, dtype: int64"
      ]
     },
     "execution_count": 13,
     "metadata": {},
     "output_type": "execute_result"
    }
   ],
   "source": [
    "df['Activity'].value_counts()"
   ]
  },
  {
   "cell_type": "code",
   "execution_count": null,
   "id": "b83edcee-8a1b-43e1-bdfb-20caa8b7851f",
   "metadata": {},
   "outputs": [],
   "source": []
  },
  {
   "cell_type": "code",
   "execution_count": 14,
   "id": "483e152b-b4ba-442a-92d5-1b69c5c4265c",
   "metadata": {},
   "outputs": [
    {
     "data": {
      "text/plain": [
       "N          1515\n",
       "Y            75\n",
       "UNKNOWN       9\n",
       "Name: Fatal (Y/N), dtype: int64"
      ]
     },
     "execution_count": 14,
     "metadata": {},
     "output_type": "execute_result"
    }
   ],
   "source": [
    "df['Fatal (Y/N)'].value_counts()"
   ]
  },
  {
   "cell_type": "code",
   "execution_count": 15,
   "id": "a1f87a84-3cd8-462d-8037-6217e9d1d484",
   "metadata": {},
   "outputs": [
    {
     "data": {
      "text/plain": [
       "(1709, 17)"
      ]
     },
     "execution_count": 15,
     "metadata": {},
     "output_type": "execute_result"
    }
   ],
   "source": [
    "\n",
    "df.shape"
   ]
  },
  {
   "cell_type": "markdown",
   "id": "451fbf45-3b6b-4832-bc4e-d96a8c470f77",
   "metadata": {},
   "source": [
    "¿Cuál es la fataldiad por género?"
   ]
  },
  {
   "cell_type": "code",
   "execution_count": 16,
   "id": "559c609c-e08b-40b8-8b78-1e237dba1925",
   "metadata": {},
   "outputs": [],
   "source": [
    "df_f = df[df['Sex'] == 'F']"
   ]
  },
  {
   "cell_type": "code",
   "execution_count": 17,
   "id": "bd3906a7-b801-4a3d-895c-2e942256d65e",
   "metadata": {},
   "outputs": [
    {
     "data": {
      "text/plain": [
       "<AxesSubplot: >"
      ]
     },
     "execution_count": 17,
     "metadata": {},
     "output_type": "execute_result"
    },
    {
     "data": {
      "image/png": "[encoded data removed]",
      "text/plain": [
       "<Figure size 640x480 with 1 Axes>"
      ]
     },
     "metadata": {},
     "output_type": "display_data"
    }
   ],
   "source": [
    "df_f['Fatal (Y/N)'].value_counts().plot.bar()"
   ]
  },
  {
   "cell_type": "code",
   "execution_count": 18,
   "id": "8debfef6-cc60-441e-9a2c-a811d8e1ce3e",
   "metadata": {},
   "outputs": [],
   "source": [
    "df_m = df[df['Sex'] == 'M']"
   ]
  },
  {
   "cell_type": "code",
   "execution_count": 19,
   "id": "2ee022bd-f430-489b-af54-cc9f8f18c622",
   "metadata": {},
   "outputs": [
    {
     "data": {
      "text/plain": [
       "<AxesSubplot: >"
      ]
     },
     "execution_count": 19,
     "metadata": {},
     "output_type": "execute_result"
    },
    {
     "data": {
      "image/png": "[encoded data removed]",
      "text/plain": [
       "<Figure size 640x480 with 1 Axes>"
      ]
     },
     "metadata": {},
     "output_type": "display_data"
    }
   ],
   "source": [
    "df_m['Fatal (Y/N)'].value_counts().plot.bar()"
   ]
  },
  {
   "cell_type": "code",
   "execution_count": null,
   "id": "8bee59fa-dd8b-484f-afd0-9b6e05e1e163",
   "metadata": {},
   "outputs": [],
   "source": []
  },
  {
   "cell_type": "code",
   "execution_count": null,
   "id": "c3d553da-f792-49b4-9fd1-d057ef4e63b2",
   "metadata": {},
   "outputs": [],
   "source": []
  },
  {
   "cell_type": "code",
   "execution_count": null,
   "id": "5290eff6-ba2c-4080-879f-3c66ac6a386f",
   "metadata": {},
   "outputs": [],
   "source": []
  },
  {
   "cell_type": "code",
   "execution_count": null,
   "id": "3511493d-07a8-4c09-bb09-dd465e0f6877",
   "metadata": {},
   "outputs": [],
   "source": []
  }
 ],
 "metadata": {
  "kernelspec": {
   "display_name": "Python 3 (ipykernel)",
   "language": "python",
   "name": "python3"
  },
  "language_info": {
   "codemirror_mode": {
    "name": "ipython",
    "version": 3
   },
   "file_extension": ".py",
   "mimetype": "text/x-python",
   "name": "python",
   "nbconvert_exporter": "python",
   "pygments_lexer": "ipython3",
   "version": "3.10.8"
  }
 },
 "nbformat": 4,
 "nbformat_minor": 5
}

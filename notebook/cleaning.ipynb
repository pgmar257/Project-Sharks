{
 "cells": [
  {
   "cell_type": "code",
   "execution_count": 1,
   "id": "c12fd5ff-11ed-445b-b08c-d34a3e1d2bcc",
   "metadata": {},
   "outputs": [],
   "source": [
    "import pandas as pd\n",
    "import numpy as np\n",
    "import regex as re\n",
    "import pylab as plt\n",
    "import seaborn as sns\n",
    "import warnings\n",
    "import matplotlib.pyplot as plot"
   ]
  },
  {
   "cell_type": "code",
   "execution_count": 2,
   "id": "6eac7101-64ca-4ec9-a213-cf31e26ee81b",
   "metadata": {},
   "outputs": [],
   "source": [
    "#pd.set_option('display.max_rows', None)"
   ]
  },
  {
   "cell_type": "code",
   "execution_count": 3,
   "id": "cf485c37-48f1-4b88-8c21-e31d0773e77e",
   "metadata": {},
   "outputs": [],
   "source": [
    "warnings.filterwarnings('ignore')"
   ]
  },
  {
   "cell_type": "code",
   "execution_count": 4,
   "id": "436104c8-61ab-4835-87c3-99c164902d00",
   "metadata": {},
   "outputs": [],
   "source": [
    "data = pd.read_csv('../data/attacks.csv', low_memory=False, encoding= \"ISO-8859-1\")\n",
    "pd.set_option('display.max_columns', None)"
   ]
  },
  {
   "cell_type": "code",
   "execution_count": 5,
   "id": "7295587a-572d-4922-8971-609fc67a3c36",
   "metadata": {},
   "outputs": [
    {
     "data": {
      "text/html": [
       "<div>\n",
       "<style scoped>\n",
       "    .dataframe tbody tr th:only-of-type {\n",
       "        vertical-align: middle;\n",
       "    }\n",
       "\n",
       "    .dataframe tbody tr th {\n",
       "        vertical-align: top;\n",
       "    }\n",
       "\n",
       "    .dataframe thead th {\n",
       "        text-align: right;\n",
       "    }\n",
       "</style>\n",
       "<table border=\"1\" class=\"dataframe\">\n",
       "  <thead>\n",
       "    <tr style=\"text-align: right;\">\n",
       "      <th></th>\n",
       "      <th>Case Number</th>\n",
       "      <th>Date</th>\n",
       "      <th>Year</th>\n",
       "      <th>Type</th>\n",
       "      <th>Country</th>\n",
       "      <th>Area</th>\n",
       "      <th>Location</th>\n",
       "      <th>Activity</th>\n",
       "      <th>Name</th>\n",
       "      <th>Sex</th>\n",
       "      <th>Age</th>\n",
       "      <th>Injury</th>\n",
       "      <th>Fatal (Y/N)</th>\n",
       "      <th>Time</th>\n",
       "      <th>Species</th>\n",
       "      <th>Investigator or Source</th>\n",
       "      <th>pdf</th>\n",
       "      <th>href formula</th>\n",
       "      <th>href</th>\n",
       "      <th>Case Number.1</th>\n",
       "      <th>Case Number.2</th>\n",
       "      <th>original order</th>\n",
       "      <th>Unnamed: 22</th>\n",
       "      <th>Unnamed: 23</th>\n",
       "    </tr>\n",
       "  </thead>\n",
       "  <tbody>\n",
       "    <tr>\n",
       "      <th>0</th>\n",
       "      <td>2018.06.25</td>\n",
       "      <td>25-Jun-2018</td>\n",
       "      <td>2018.0</td>\n",
       "      <td>Boating</td>\n",
       "      <td>USA</td>\n",
       "      <td>California</td>\n",
       "      <td>Oceanside, San Diego County</td>\n",
       "      <td>Paddling</td>\n",
       "      <td>Julie Wolfe</td>\n",
       "      <td>F</td>\n",
       "      <td>57</td>\n",
       "      <td>No injury to occupant, outrigger canoe and pad...</td>\n",
       "      <td>N</td>\n",
       "      <td>18h00</td>\n",
       "      <td>White shark</td>\n",
       "      <td>R. Collier, GSAF</td>\n",
       "      <td>2018.06.25-Wolfe.pdf</td>\n",
       "      <td>http://sharkattackfile.net/spreadsheets/pdf_di...</td>\n",
       "      <td>http://sharkattackfile.net/spreadsheets/pdf_di...</td>\n",
       "      <td>2018.06.25</td>\n",
       "      <td>2018.06.25</td>\n",
       "      <td>6303.0</td>\n",
       "      <td>NaN</td>\n",
       "      <td>NaN</td>\n",
       "    </tr>\n",
       "    <tr>\n",
       "      <th>1</th>\n",
       "      <td>2018.06.18</td>\n",
       "      <td>18-Jun-2018</td>\n",
       "      <td>2018.0</td>\n",
       "      <td>Unprovoked</td>\n",
       "      <td>USA</td>\n",
       "      <td>Georgia</td>\n",
       "      <td>St. Simon Island, Glynn County</td>\n",
       "      <td>Standing</td>\n",
       "      <td>Adyson McNeely</td>\n",
       "      <td>F</td>\n",
       "      <td>11</td>\n",
       "      <td>Minor injury to left thigh</td>\n",
       "      <td>N</td>\n",
       "      <td>14h00  -15h00</td>\n",
       "      <td>NaN</td>\n",
       "      <td>K.McMurray, TrackingSharks.com</td>\n",
       "      <td>2018.06.18-McNeely.pdf</td>\n",
       "      <td>http://sharkattackfile.net/spreadsheets/pdf_di...</td>\n",
       "      <td>http://sharkattackfile.net/spreadsheets/pdf_di...</td>\n",
       "      <td>2018.06.18</td>\n",
       "      <td>2018.06.18</td>\n",
       "      <td>6302.0</td>\n",
       "      <td>NaN</td>\n",
       "      <td>NaN</td>\n",
       "    </tr>\n",
       "    <tr>\n",
       "      <th>2</th>\n",
       "      <td>2018.06.09</td>\n",
       "      <td>09-Jun-2018</td>\n",
       "      <td>2018.0</td>\n",
       "      <td>Invalid</td>\n",
       "      <td>USA</td>\n",
       "      <td>Hawaii</td>\n",
       "      <td>Habush, Oahu</td>\n",
       "      <td>Surfing</td>\n",
       "      <td>John Denges</td>\n",
       "      <td>M</td>\n",
       "      <td>48</td>\n",
       "      <td>Injury to left lower leg from surfboard skeg</td>\n",
       "      <td>N</td>\n",
       "      <td>07h45</td>\n",
       "      <td>NaN</td>\n",
       "      <td>K.McMurray, TrackingSharks.com</td>\n",
       "      <td>2018.06.09-Denges.pdf</td>\n",
       "      <td>http://sharkattackfile.net/spreadsheets/pdf_di...</td>\n",
       "      <td>http://sharkattackfile.net/spreadsheets/pdf_di...</td>\n",
       "      <td>2018.06.09</td>\n",
       "      <td>2018.06.09</td>\n",
       "      <td>6301.0</td>\n",
       "      <td>NaN</td>\n",
       "      <td>NaN</td>\n",
       "    </tr>\n",
       "    <tr>\n",
       "      <th>3</th>\n",
       "      <td>2018.06.08</td>\n",
       "      <td>08-Jun-2018</td>\n",
       "      <td>2018.0</td>\n",
       "      <td>Unprovoked</td>\n",
       "      <td>AUSTRALIA</td>\n",
       "      <td>New South Wales</td>\n",
       "      <td>Arrawarra Headland</td>\n",
       "      <td>Surfing</td>\n",
       "      <td>male</td>\n",
       "      <td>M</td>\n",
       "      <td>NaN</td>\n",
       "      <td>Minor injury to lower leg</td>\n",
       "      <td>N</td>\n",
       "      <td>NaN</td>\n",
       "      <td>2 m shark</td>\n",
       "      <td>B. Myatt, GSAF</td>\n",
       "      <td>2018.06.08-Arrawarra.pdf</td>\n",
       "      <td>http://sharkattackfile.net/spreadsheets/pdf_di...</td>\n",
       "      <td>http://sharkattackfile.net/spreadsheets/pdf_di...</td>\n",
       "      <td>2018.06.08</td>\n",
       "      <td>2018.06.08</td>\n",
       "      <td>6300.0</td>\n",
       "      <td>NaN</td>\n",
       "      <td>NaN</td>\n",
       "    </tr>\n",
       "    <tr>\n",
       "      <th>4</th>\n",
       "      <td>2018.06.04</td>\n",
       "      <td>04-Jun-2018</td>\n",
       "      <td>2018.0</td>\n",
       "      <td>Provoked</td>\n",
       "      <td>MEXICO</td>\n",
       "      <td>Colima</td>\n",
       "      <td>La Ticla</td>\n",
       "      <td>Free diving</td>\n",
       "      <td>Gustavo Ramos</td>\n",
       "      <td>M</td>\n",
       "      <td>NaN</td>\n",
       "      <td>Lacerations to leg &amp; hand shark PROVOKED INCIDENT</td>\n",
       "      <td>N</td>\n",
       "      <td>NaN</td>\n",
       "      <td>Tiger shark, 3m</td>\n",
       "      <td>A .Kipper</td>\n",
       "      <td>2018.06.04-Ramos.pdf</td>\n",
       "      <td>http://sharkattackfile.net/spreadsheets/pdf_di...</td>\n",
       "      <td>http://sharkattackfile.net/spreadsheets/pdf_di...</td>\n",
       "      <td>2018.06.04</td>\n",
       "      <td>2018.06.04</td>\n",
       "      <td>6299.0</td>\n",
       "      <td>NaN</td>\n",
       "      <td>NaN</td>\n",
       "    </tr>\n",
       "  </tbody>\n",
       "</table>\n",
       "</div>"
      ],
      "text/plain": [
       "  Case Number         Date    Year        Type    Country             Area  \\\n",
       "0  2018.06.25  25-Jun-2018  2018.0     Boating        USA       California   \n",
       "1  2018.06.18  18-Jun-2018  2018.0  Unprovoked        USA          Georgia   \n",
       "2  2018.06.09  09-Jun-2018  2018.0     Invalid        USA           Hawaii   \n",
       "3  2018.06.08  08-Jun-2018  2018.0  Unprovoked  AUSTRALIA  New South Wales   \n",
       "4  2018.06.04  04-Jun-2018  2018.0    Provoked     MEXICO           Colima   \n",
       "\n",
       "                         Location     Activity             Name Sex   Age  \\\n",
       "0     Oceanside, San Diego County     Paddling      Julie Wolfe    F   57   \n",
       "1  St. Simon Island, Glynn County     Standing  Adyson McNeely     F   11   \n",
       "2                    Habush, Oahu      Surfing      John Denges    M   48   \n",
       "3              Arrawarra Headland      Surfing             male    M  NaN   \n",
       "4                        La Ticla  Free diving   Gustavo Ramos     M  NaN   \n",
       "\n",
       "                                              Injury Fatal (Y/N)  \\\n",
       "0  No injury to occupant, outrigger canoe and pad...           N   \n",
       "1                         Minor injury to left thigh           N   \n",
       "2       Injury to left lower leg from surfboard skeg           N   \n",
       "3                          Minor injury to lower leg           N   \n",
       "4  Lacerations to leg & hand shark PROVOKED INCIDENT           N   \n",
       "\n",
       "            Time         Species           Investigator or Source  \\\n",
       "0          18h00      White shark                R. Collier, GSAF   \n",
       "1  14h00  -15h00              NaN  K.McMurray, TrackingSharks.com   \n",
       "2          07h45              NaN  K.McMurray, TrackingSharks.com   \n",
       "3            NaN        2 m shark                  B. Myatt, GSAF   \n",
       "4            NaN  Tiger shark, 3m                       A .Kipper   \n",
       "\n",
       "                        pdf  \\\n",
       "0      2018.06.25-Wolfe.pdf   \n",
       "1    2018.06.18-McNeely.pdf   \n",
       "2     2018.06.09-Denges.pdf   \n",
       "3  2018.06.08-Arrawarra.pdf   \n",
       "4      2018.06.04-Ramos.pdf   \n",
       "\n",
       "                                        href formula  \\\n",
       "0  http://sharkattackfile.net/spreadsheets/pdf_di...   \n",
       "1  http://sharkattackfile.net/spreadsheets/pdf_di...   \n",
       "2  http://sharkattackfile.net/spreadsheets/pdf_di...   \n",
       "3  http://sharkattackfile.net/spreadsheets/pdf_di...   \n",
       "4  http://sharkattackfile.net/spreadsheets/pdf_di...   \n",
       "\n",
       "                                                href Case Number.1  \\\n",
       "0  http://sharkattackfile.net/spreadsheets/pdf_di...    2018.06.25   \n",
       "1  http://sharkattackfile.net/spreadsheets/pdf_di...    2018.06.18   \n",
       "2  http://sharkattackfile.net/spreadsheets/pdf_di...    2018.06.09   \n",
       "3  http://sharkattackfile.net/spreadsheets/pdf_di...    2018.06.08   \n",
       "4  http://sharkattackfile.net/spreadsheets/pdf_di...    2018.06.04   \n",
       "\n",
       "  Case Number.2  original order Unnamed: 22 Unnamed: 23  \n",
       "0    2018.06.25          6303.0         NaN         NaN  \n",
       "1    2018.06.18          6302.0         NaN         NaN  \n",
       "2    2018.06.09          6301.0         NaN         NaN  \n",
       "3    2018.06.08          6300.0         NaN         NaN  \n",
       "4    2018.06.04          6299.0         NaN         NaN  "
      ]
     },
     "execution_count": 5,
     "metadata": {},
     "output_type": "execute_result"
    }
   ],
   "source": [
    "data.head()"
   ]
  },
  {
   "cell_type": "code",
   "execution_count": 6,
   "id": "f0f85a40-8fe3-4081-9b48-09a7ce592acc",
   "metadata": {},
   "outputs": [
    {
     "data": {
      "text/plain": [
       "(25723, 24)"
      ]
     },
     "execution_count": 6,
     "metadata": {},
     "output_type": "execute_result"
    }
   ],
   "source": [
    "data.shape"
   ]
  },
  {
   "cell_type": "code",
   "execution_count": 7,
   "id": "f0dd8f1c-37d1-43cd-b875-9658ea7f23ac",
   "metadata": {},
   "outputs": [
    {
     "data": {
      "text/plain": [
       "<AxesSubplot: >"
      ]
     },
     "execution_count": 7,
     "metadata": {},
     "output_type": "execute_result"
    },
    {
     "data": {
      "image/png": "[encoded data removed]",
      "text/plain": [
       "<Figure size 640x480 with 1 Axes>"
      ]
     },
     "metadata": {},
     "output_type": "display_data"
    }
   ],
   "source": [
    "data.isnull().sum().plot.bar()"
   ]
  },
  {
   "cell_type": "code",
   "execution_count": 8,
   "id": "afc88024-846e-4d61-a59d-404ab6601cfe",
   "metadata": {},
   "outputs": [
    {
     "name": "stdout",
     "output_type": "stream",
     "text": [
      "<class 'pandas.core.frame.DataFrame'>\n",
      "RangeIndex: 25723 entries, 0 to 25722\n",
      "Data columns (total 24 columns):\n",
      " #   Column                  Non-Null Count  Dtype  \n",
      "---  ------                  --------------  -----  \n",
      " 0   Case Number             8702 non-null   object \n",
      " 1   Date                    6302 non-null   object \n",
      " 2   Year                    6300 non-null   float64\n",
      " 3   Type                    6298 non-null   object \n",
      " 4   Country                 6252 non-null   object \n",
      " 5   Area                    5847 non-null   object \n",
      " 6   Location                5762 non-null   object \n",
      " 7   Activity                5758 non-null   object \n",
      " 8   Name                    6092 non-null   object \n",
      " 9   Sex                     5737 non-null   object \n",
      " 10  Age                     3471 non-null   object \n",
      " 11  Injury                  6274 non-null   object \n",
      " 12  Fatal (Y/N)             5763 non-null   object \n",
      " 13  Time                    2948 non-null   object \n",
      " 14  Species                 3464 non-null   object \n",
      " 15  Investigator or Source  6285 non-null   object \n",
      " 16  pdf                     6302 non-null   object \n",
      " 17  href formula            6301 non-null   object \n",
      " 18  href                    6302 non-null   object \n",
      " 19  Case Number.1           6302 non-null   object \n",
      " 20  Case Number.2           6302 non-null   object \n",
      " 21  original order          6309 non-null   float64\n",
      " 22  Unnamed: 22             1 non-null      object \n",
      " 23  Unnamed: 23             2 non-null      object \n",
      "dtypes: float64(2), object(22)\n",
      "memory usage: 4.7+ MB\n"
     ]
    }
   ],
   "source": [
    "#Revisamos los tipos de datos\n",
    "data.info()"
   ]
  },
  {
   "cell_type": "markdown",
   "id": "feb3a40f-f8bd-4764-932b-4f1231e92582",
   "metadata": {},
   "source": [
    "### Borro nulos"
   ]
  },
  {
   "cell_type": "code",
   "execution_count": 9,
   "id": "0069ad70-34af-4a97-ae8b-812a19fdd8e2",
   "metadata": {},
   "outputs": [],
   "source": [
    "# Elimino filas con valores nulos puesto que no se pueden eliminar columnas\n",
    "data.dropna(how = \"all\", inplace = True)"
   ]
  },
  {
   "cell_type": "code",
   "execution_count": 10,
   "id": "bf8a66ab-6aa9-44e9-832b-15d75fa969ad",
   "metadata": {},
   "outputs": [
    {
     "data": {
      "text/plain": [
       "(8703, 24)"
      ]
     },
     "execution_count": 10,
     "metadata": {},
     "output_type": "execute_result"
    }
   ],
   "source": [
    "data.shape"
   ]
  },
  {
   "cell_type": "code",
   "execution_count": 11,
   "id": "803017c8-9979-4b2f-8bad-58b60d225279",
   "metadata": {},
   "outputs": [
    {
     "data": {
      "text/html": [
       "<div>\n",
       "<style scoped>\n",
       "    .dataframe tbody tr th:only-of-type {\n",
       "        vertical-align: middle;\n",
       "    }\n",
       "\n",
       "    .dataframe tbody tr th {\n",
       "        vertical-align: top;\n",
       "    }\n",
       "\n",
       "    .dataframe thead th {\n",
       "        text-align: right;\n",
       "    }\n",
       "</style>\n",
       "<table border=\"1\" class=\"dataframe\">\n",
       "  <thead>\n",
       "    <tr style=\"text-align: right;\">\n",
       "      <th></th>\n",
       "      <th>Case Number</th>\n",
       "      <th>Date</th>\n",
       "      <th>Year</th>\n",
       "      <th>Type</th>\n",
       "      <th>Country</th>\n",
       "      <th>Area</th>\n",
       "      <th>Location</th>\n",
       "      <th>Activity</th>\n",
       "      <th>Name</th>\n",
       "      <th>Sex</th>\n",
       "      <th>Age</th>\n",
       "      <th>Injury</th>\n",
       "      <th>Fatal (Y/N)</th>\n",
       "      <th>Time</th>\n",
       "      <th>Species</th>\n",
       "      <th>Investigator or Source</th>\n",
       "      <th>pdf</th>\n",
       "      <th>href formula</th>\n",
       "      <th>href</th>\n",
       "      <th>Case Number.1</th>\n",
       "      <th>Case Number.2</th>\n",
       "      <th>original order</th>\n",
       "      <th>Unnamed: 22</th>\n",
       "      <th>Unnamed: 23</th>\n",
       "    </tr>\n",
       "  </thead>\n",
       "  <tbody>\n",
       "    <tr>\n",
       "      <th>8698</th>\n",
       "      <td>0</td>\n",
       "      <td>NaN</td>\n",
       "      <td>NaN</td>\n",
       "      <td>NaN</td>\n",
       "      <td>NaN</td>\n",
       "      <td>NaN</td>\n",
       "      <td>NaN</td>\n",
       "      <td>NaN</td>\n",
       "      <td>NaN</td>\n",
       "      <td>NaN</td>\n",
       "      <td>NaN</td>\n",
       "      <td>NaN</td>\n",
       "      <td>NaN</td>\n",
       "      <td>NaN</td>\n",
       "      <td>NaN</td>\n",
       "      <td>NaN</td>\n",
       "      <td>NaN</td>\n",
       "      <td>NaN</td>\n",
       "      <td>NaN</td>\n",
       "      <td>NaN</td>\n",
       "      <td>NaN</td>\n",
       "      <td>NaN</td>\n",
       "      <td>NaN</td>\n",
       "      <td>NaN</td>\n",
       "    </tr>\n",
       "    <tr>\n",
       "      <th>8699</th>\n",
       "      <td>0</td>\n",
       "      <td>NaN</td>\n",
       "      <td>NaN</td>\n",
       "      <td>NaN</td>\n",
       "      <td>NaN</td>\n",
       "      <td>NaN</td>\n",
       "      <td>NaN</td>\n",
       "      <td>NaN</td>\n",
       "      <td>NaN</td>\n",
       "      <td>NaN</td>\n",
       "      <td>NaN</td>\n",
       "      <td>NaN</td>\n",
       "      <td>NaN</td>\n",
       "      <td>NaN</td>\n",
       "      <td>NaN</td>\n",
       "      <td>NaN</td>\n",
       "      <td>NaN</td>\n",
       "      <td>NaN</td>\n",
       "      <td>NaN</td>\n",
       "      <td>NaN</td>\n",
       "      <td>NaN</td>\n",
       "      <td>NaN</td>\n",
       "      <td>NaN</td>\n",
       "      <td>NaN</td>\n",
       "    </tr>\n",
       "    <tr>\n",
       "      <th>8700</th>\n",
       "      <td>0</td>\n",
       "      <td>NaN</td>\n",
       "      <td>NaN</td>\n",
       "      <td>NaN</td>\n",
       "      <td>NaN</td>\n",
       "      <td>NaN</td>\n",
       "      <td>NaN</td>\n",
       "      <td>NaN</td>\n",
       "      <td>NaN</td>\n",
       "      <td>NaN</td>\n",
       "      <td>NaN</td>\n",
       "      <td>NaN</td>\n",
       "      <td>NaN</td>\n",
       "      <td>NaN</td>\n",
       "      <td>NaN</td>\n",
       "      <td>NaN</td>\n",
       "      <td>NaN</td>\n",
       "      <td>NaN</td>\n",
       "      <td>NaN</td>\n",
       "      <td>NaN</td>\n",
       "      <td>NaN</td>\n",
       "      <td>NaN</td>\n",
       "      <td>NaN</td>\n",
       "      <td>NaN</td>\n",
       "    </tr>\n",
       "    <tr>\n",
       "      <th>8701</th>\n",
       "      <td>0</td>\n",
       "      <td>NaN</td>\n",
       "      <td>NaN</td>\n",
       "      <td>NaN</td>\n",
       "      <td>NaN</td>\n",
       "      <td>NaN</td>\n",
       "      <td>NaN</td>\n",
       "      <td>NaN</td>\n",
       "      <td>NaN</td>\n",
       "      <td>NaN</td>\n",
       "      <td>NaN</td>\n",
       "      <td>NaN</td>\n",
       "      <td>NaN</td>\n",
       "      <td>NaN</td>\n",
       "      <td>NaN</td>\n",
       "      <td>NaN</td>\n",
       "      <td>NaN</td>\n",
       "      <td>NaN</td>\n",
       "      <td>NaN</td>\n",
       "      <td>NaN</td>\n",
       "      <td>NaN</td>\n",
       "      <td>NaN</td>\n",
       "      <td>NaN</td>\n",
       "      <td>NaN</td>\n",
       "    </tr>\n",
       "    <tr>\n",
       "      <th>25722</th>\n",
       "      <td>xx</td>\n",
       "      <td>NaN</td>\n",
       "      <td>NaN</td>\n",
       "      <td>NaN</td>\n",
       "      <td>NaN</td>\n",
       "      <td>NaN</td>\n",
       "      <td>NaN</td>\n",
       "      <td>NaN</td>\n",
       "      <td>NaN</td>\n",
       "      <td>NaN</td>\n",
       "      <td>NaN</td>\n",
       "      <td>NaN</td>\n",
       "      <td>NaN</td>\n",
       "      <td>NaN</td>\n",
       "      <td>NaN</td>\n",
       "      <td>NaN</td>\n",
       "      <td>NaN</td>\n",
       "      <td>NaN</td>\n",
       "      <td>NaN</td>\n",
       "      <td>NaN</td>\n",
       "      <td>NaN</td>\n",
       "      <td>NaN</td>\n",
       "      <td>NaN</td>\n",
       "      <td>NaN</td>\n",
       "    </tr>\n",
       "  </tbody>\n",
       "</table>\n",
       "</div>"
      ],
      "text/plain": [
       "      Case Number Date  Year Type Country Area Location Activity Name Sex   \\\n",
       "8698            0  NaN   NaN  NaN     NaN  NaN      NaN      NaN  NaN  NaN   \n",
       "8699            0  NaN   NaN  NaN     NaN  NaN      NaN      NaN  NaN  NaN   \n",
       "8700            0  NaN   NaN  NaN     NaN  NaN      NaN      NaN  NaN  NaN   \n",
       "8701            0  NaN   NaN  NaN     NaN  NaN      NaN      NaN  NaN  NaN   \n",
       "25722          xx  NaN   NaN  NaN     NaN  NaN      NaN      NaN  NaN  NaN   \n",
       "\n",
       "       Age Injury Fatal (Y/N) Time Species  Investigator or Source  pdf  \\\n",
       "8698   NaN    NaN         NaN  NaN      NaN                    NaN  NaN   \n",
       "8699   NaN    NaN         NaN  NaN      NaN                    NaN  NaN   \n",
       "8700   NaN    NaN         NaN  NaN      NaN                    NaN  NaN   \n",
       "8701   NaN    NaN         NaN  NaN      NaN                    NaN  NaN   \n",
       "25722  NaN    NaN         NaN  NaN      NaN                    NaN  NaN   \n",
       "\n",
       "      href formula href Case Number.1 Case Number.2  original order  \\\n",
       "8698           NaN  NaN           NaN           NaN             NaN   \n",
       "8699           NaN  NaN           NaN           NaN             NaN   \n",
       "8700           NaN  NaN           NaN           NaN             NaN   \n",
       "8701           NaN  NaN           NaN           NaN             NaN   \n",
       "25722          NaN  NaN           NaN           NaN             NaN   \n",
       "\n",
       "      Unnamed: 22 Unnamed: 23  \n",
       "8698          NaN         NaN  \n",
       "8699          NaN         NaN  \n",
       "8700          NaN         NaN  \n",
       "8701          NaN         NaN  \n",
       "25722         NaN         NaN  "
      ]
     },
     "execution_count": 11,
     "metadata": {},
     "output_type": "execute_result"
    }
   ],
   "source": [
    "data.tail()"
   ]
  },
  {
   "cell_type": "markdown",
   "id": "123ab838-b043-475e-8aa8-d60eaef479c3",
   "metadata": {},
   "source": [
    "### Elimino duplicados"
   ]
  },
  {
   "cell_type": "code",
   "execution_count": 12,
   "id": "69d8d8a6-de52-469c-aa54-e361bed723fd",
   "metadata": {},
   "outputs": [],
   "source": [
    "# Con drop_duplicates eliminamos duplicados"
   ]
  },
  {
   "cell_type": "code",
   "execution_count": 13,
   "id": "efcc1e6d-5926-4714-9e02-403173a58612",
   "metadata": {},
   "outputs": [],
   "source": [
    "data=data.drop_duplicates()\n",
    "data.drop_duplicates(inplace=True)"
   ]
  },
  {
   "cell_type": "code",
   "execution_count": 14,
   "id": "75bed9b2-0be2-449a-9337-cf51d97e9440",
   "metadata": {},
   "outputs": [
    {
     "data": {
      "text/plain": [
       "(6311, 24)"
      ]
     },
     "execution_count": 14,
     "metadata": {},
     "output_type": "execute_result"
    }
   ],
   "source": [
    "data.shape"
   ]
  },
  {
   "cell_type": "code",
   "execution_count": 16,
   "id": "402c4144-8656-4bd2-a647-31e95659468e",
   "metadata": {},
   "outputs": [
    {
     "data": {
      "text/plain": [
       "False"
      ]
     },
     "execution_count": 16,
     "metadata": {},
     "output_type": "execute_result"
    }
   ],
   "source": [
    "#Compruebo que no existen más duplicados\n",
    "\n",
    "data.duplicated().any()"
   ]
  },
  {
   "cell_type": "code",
   "execution_count": 17,
   "id": "5b4c07fd-216c-4bcc-8e39-da260b699e70",
   "metadata": {},
   "outputs": [
    {
     "data": {
      "text/plain": [
       "(6311, 24)"
      ]
     },
     "execution_count": 17,
     "metadata": {},
     "output_type": "execute_result"
    }
   ],
   "source": [
    "data.shape"
   ]
  },
  {
   "cell_type": "code",
   "execution_count": 20,
   "id": "2f2cf9ae-f075-4864-97b4-450e49bb0452",
   "metadata": {},
   "outputs": [],
   "source": [
    "# NO tiene sentido que sigamos manteniendo las columnas con valores nulos (a pesar de las restricciones)"
   ]
  },
  {
   "cell_type": "code",
   "execution_count": 21,
   "id": "0b6cf2ec-d99c-4f95-a38c-1abba349f1d3",
   "metadata": {},
   "outputs": [],
   "source": [
    "# Volvemos a explorar columnas que contengan nulos"
   ]
  },
  {
   "cell_type": "code",
   "execution_count": 22,
   "id": "13973b31-3905-41e1-878b-a0efe192c40a",
   "metadata": {},
   "outputs": [],
   "source": [
    "# Las columnas que más nulos contienen son: Age, Time y Species"
   ]
  },
  {
   "cell_type": "markdown",
   "id": "d680f80a-c023-4e00-b7b5-51b6f5066dab",
   "metadata": {},
   "source": [
    "### Cambiar 'null' por 'Unknown'"
   ]
  },
  {
   "cell_type": "code",
   "execution_count": 23,
   "id": "3ef6e479-244c-4f7b-a9dc-b60ba17602da",
   "metadata": {},
   "outputs": [],
   "source": [
    "data[\"Type\"] = data[\"Type\"].fillna('Unknown')"
   ]
  },
  {
   "cell_type": "code",
   "execution_count": 26,
   "id": "e382ff0e-9c67-4665-843c-b68b13027b58",
   "metadata": {},
   "outputs": [
    {
     "data": {
      "text/plain": [
       "(6311, 24)"
      ]
     },
     "execution_count": 26,
     "metadata": {},
     "output_type": "execute_result"
    }
   ],
   "source": [
    "data.shape"
   ]
  },
  {
   "cell_type": "code",
   "execution_count": 27,
   "id": "7167cdd8-daed-43e6-ab80-e8dd6a17b4ec",
   "metadata": {},
   "outputs": [],
   "source": [
    "# Aquí me doy cuenta de que sustituir valores nulos por 'Unknowns' NO SIRVE PARA NADA!!"
   ]
  },
  {
   "cell_type": "code",
   "execution_count": 28,
   "id": "6e19d958-e7f5-497d-b533-f1bf2ffc7e73",
   "metadata": {},
   "outputs": [],
   "source": [
    "# Aquí es cuando empiezo a formular una \"teoría/hipótesis\" que es, centrarme en un ÚNICO país (tengo datos de demasiados países)"
   ]
  },
  {
   "cell_type": "code",
   "execution_count": 29,
   "id": "5ca3f862-3121-4cab-b93f-1c9510a17875",
   "metadata": {},
   "outputs": [
    {
     "data": {
      "text/plain": [
       "USA                       2229\n",
       "AUSTRALIA                 1338\n",
       "SOUTH AFRICA               579\n",
       "PAPUA NEW GUINEA           134\n",
       "NEW ZEALAND                128\n",
       "                          ... \n",
       "MALDIVE ISLANDS              1\n",
       "NICARAGUA                    1\n",
       "NORTH SEA                    1\n",
       "RED SEA / INDIAN OCEAN       1\n",
       "CEYLON (SRI LANKA)           1\n",
       "Name: Country, Length: 212, dtype: int64"
      ]
     },
     "execution_count": 29,
     "metadata": {},
     "output_type": "execute_result"
    }
   ],
   "source": [
    "data['Country'].value_counts()"
   ]
  },
  {
   "cell_type": "code",
   "execution_count": 30,
   "id": "9dcd0a7f-5cce-4448-89bf-cf805eeba6ac",
   "metadata": {},
   "outputs": [],
   "source": [
    "# df_cleaning = data[data['Country'] == 'USA']"
   ]
  },
  {
   "cell_type": "code",
   "execution_count": 31,
   "id": "5e7caa3e-8731-41bb-83db-04cadd1e68c0",
   "metadata": {},
   "outputs": [],
   "source": [
    "df_cleaning = data"
   ]
  },
  {
   "cell_type": "code",
   "execution_count": 32,
   "id": "e77fa320-19cf-4d31-9930-ffbe7c1aafd4",
   "metadata": {},
   "outputs": [
    {
     "data": {
      "text/html": [
       "<div>\n",
       "<style scoped>\n",
       "    .dataframe tbody tr th:only-of-type {\n",
       "        vertical-align: middle;\n",
       "    }\n",
       "\n",
       "    .dataframe tbody tr th {\n",
       "        vertical-align: top;\n",
       "    }\n",
       "\n",
       "    .dataframe thead th {\n",
       "        text-align: right;\n",
       "    }\n",
       "</style>\n",
       "<table border=\"1\" class=\"dataframe\">\n",
       "  <thead>\n",
       "    <tr style=\"text-align: right;\">\n",
       "      <th></th>\n",
       "      <th>Case Number</th>\n",
       "      <th>Date</th>\n",
       "      <th>Year</th>\n",
       "      <th>Type</th>\n",
       "      <th>Country</th>\n",
       "      <th>Area</th>\n",
       "      <th>Location</th>\n",
       "      <th>Activity</th>\n",
       "      <th>Name</th>\n",
       "      <th>Sex</th>\n",
       "      <th>Age</th>\n",
       "      <th>Injury</th>\n",
       "      <th>Fatal (Y/N)</th>\n",
       "      <th>Time</th>\n",
       "      <th>Species</th>\n",
       "      <th>Investigator or Source</th>\n",
       "      <th>pdf</th>\n",
       "      <th>href formula</th>\n",
       "      <th>href</th>\n",
       "      <th>Case Number.1</th>\n",
       "      <th>Case Number.2</th>\n",
       "      <th>original order</th>\n",
       "      <th>Unnamed: 22</th>\n",
       "      <th>Unnamed: 23</th>\n",
       "    </tr>\n",
       "  </thead>\n",
       "  <tbody>\n",
       "    <tr>\n",
       "      <th>5904</th>\n",
       "      <td>1871.08.00</td>\n",
       "      <td>Aug-1871</td>\n",
       "      <td>1871.0</td>\n",
       "      <td>Provoked</td>\n",
       "      <td>USA</td>\n",
       "      <td>New York</td>\n",
       "      <td>Long Island</td>\n",
       "      <td>Shark fishing</td>\n",
       "      <td>NaN</td>\n",
       "      <td>M</td>\n",
       "      <td>NaN</td>\n",
       "      <td>Hand injured PROVOKED INCIDENT</td>\n",
       "      <td>N</td>\n",
       "      <td>NaN</td>\n",
       "      <td>NaN</td>\n",
       "      <td>New York Times, 8/26/1871</td>\n",
       "      <td>1871.08.00-SharkFisherman.pdf</td>\n",
       "      <td>http://sharkattackfile.net/spreadsheets/pdf_di...</td>\n",
       "      <td>http://sharkattackfile.net/spreadsheets/pdf_di...</td>\n",
       "      <td>1871.08.00</td>\n",
       "      <td>1871.08.00</td>\n",
       "      <td>399.0</td>\n",
       "      <td>NaN</td>\n",
       "      <td>NaN</td>\n",
       "    </tr>\n",
       "    <tr>\n",
       "      <th>5303</th>\n",
       "      <td>1916.07.13</td>\n",
       "      <td>13-Jul-1916</td>\n",
       "      <td>1916.0</td>\n",
       "      <td>Unprovoked</td>\n",
       "      <td>USA</td>\n",
       "      <td>New York</td>\n",
       "      <td>Sheepshead Bay, Brooklyn</td>\n",
       "      <td>Swimming</td>\n",
       "      <td>Thomas Richards</td>\n",
       "      <td>M</td>\n",
       "      <td>NaN</td>\n",
       "      <td>Ankle bruised</td>\n",
       "      <td>N</td>\n",
       "      <td>NaN</td>\n",
       "      <td>NaN</td>\n",
       "      <td>NY Tribune, 7/14/1916</td>\n",
       "      <td>1916.07.13.a-Richards.pdf</td>\n",
       "      <td>http://sharkattackfile.net/spreadsheets/pdf_di...</td>\n",
       "      <td>http://sharkattackfile.net/spreadsheets/pdf_di...</td>\n",
       "      <td>1916.07.13</td>\n",
       "      <td>1916.07.13</td>\n",
       "      <td>1000.0</td>\n",
       "      <td>NaN</td>\n",
       "      <td>NaN</td>\n",
       "    </tr>\n",
       "    <tr>\n",
       "      <th>2257</th>\n",
       "      <td>1997.04.20</td>\n",
       "      <td>20-Apr-1997</td>\n",
       "      <td>1997.0</td>\n",
       "      <td>Unprovoked</td>\n",
       "      <td>BRAZIL</td>\n",
       "      <td>Rio de Janeiro</td>\n",
       "      <td>Manguinhos, Ilha Feia, Búzios</td>\n",
       "      <td>Windsurfing</td>\n",
       "      <td>João Pedro Portinari Leão</td>\n",
       "      <td>M</td>\n",
       "      <td>22</td>\n",
       "      <td>Lower left leg &amp; ankle bitten</td>\n",
       "      <td>N</td>\n",
       "      <td>NaN</td>\n",
       "      <td>3.7m  to 4.2 m white shark</td>\n",
       "      <td>O. Gadig; Globo, 4/24/1997</td>\n",
       "      <td>1997.04.20-Leao.pdf</td>\n",
       "      <td>http://sharkattackfile.net/spreadsheets/pdf_di...</td>\n",
       "      <td>http://sharkattackfile.net/spreadsheets/pdf_di...</td>\n",
       "      <td>1997.04.20</td>\n",
       "      <td>1997.04.20</td>\n",
       "      <td>4046.0</td>\n",
       "      <td>NaN</td>\n",
       "      <td>NaN</td>\n",
       "    </tr>\n",
       "    <tr>\n",
       "      <th>2714</th>\n",
       "      <td>1988.09.28</td>\n",
       "      <td>28-Sep-1988</td>\n",
       "      <td>1988.0</td>\n",
       "      <td>Unprovoked</td>\n",
       "      <td>USA</td>\n",
       "      <td>Florida</td>\n",
       "      <td>New Smyrna Beach, Volusia County</td>\n",
       "      <td>Surfing</td>\n",
       "      <td>Chris Garvin</td>\n",
       "      <td>M</td>\n",
       "      <td>21</td>\n",
       "      <td>Lacerations to foot</td>\n",
       "      <td>N</td>\n",
       "      <td>Afternoon</td>\n",
       "      <td>5' shark</td>\n",
       "      <td>News-Journal, 9/29/1988</td>\n",
       "      <td>1988.09.28-Garvin.pdf</td>\n",
       "      <td>http://sharkattackfile.net/spreadsheets/pdf_di...</td>\n",
       "      <td>http://sharkattackfile.net/spreadsheets/pdf_di...</td>\n",
       "      <td>1988.09.28</td>\n",
       "      <td>1988.09.28</td>\n",
       "      <td>3589.0</td>\n",
       "      <td>NaN</td>\n",
       "      <td>NaN</td>\n",
       "    </tr>\n",
       "    <tr>\n",
       "      <th>1423</th>\n",
       "      <td>2006.10.07</td>\n",
       "      <td>07-Oct-2006</td>\n",
       "      <td>2006.0</td>\n",
       "      <td>Unprovoked</td>\n",
       "      <td>USA</td>\n",
       "      <td>Texas</td>\n",
       "      <td>Isla Blanca Park, South Padre Island</td>\n",
       "      <td>Surfing</td>\n",
       "      <td>Freddy Torres</td>\n",
       "      <td>M</td>\n",
       "      <td>NaN</td>\n",
       "      <td>Lacerations to lower left leg</td>\n",
       "      <td>N</td>\n",
       "      <td>NaN</td>\n",
       "      <td>1' to 4' shark</td>\n",
       "      <td>M. Martinez, KGBT4</td>\n",
       "      <td>2006.10.07-Torres.pdf</td>\n",
       "      <td>http://sharkattackfile.net/spreadsheets/pdf_di...</td>\n",
       "      <td>http://sharkattackfile.net/spreadsheets/pdf_di...</td>\n",
       "      <td>2006.10.07</td>\n",
       "      <td>2006.10.07</td>\n",
       "      <td>4880.0</td>\n",
       "      <td>NaN</td>\n",
       "      <td>NaN</td>\n",
       "    </tr>\n",
       "  </tbody>\n",
       "</table>\n",
       "</div>"
      ],
      "text/plain": [
       "     Case Number         Date    Year        Type Country            Area  \\\n",
       "5904  1871.08.00     Aug-1871  1871.0    Provoked     USA        New York   \n",
       "5303  1916.07.13  13-Jul-1916  1916.0  Unprovoked     USA        New York   \n",
       "2257  1997.04.20  20-Apr-1997  1997.0  Unprovoked  BRAZIL  Rio de Janeiro   \n",
       "2714  1988.09.28  28-Sep-1988  1988.0  Unprovoked     USA         Florida   \n",
       "1423  2006.10.07  07-Oct-2006  2006.0  Unprovoked     USA           Texas   \n",
       "\n",
       "                                  Location       Activity  \\\n",
       "5904                           Long Island  Shark fishing   \n",
       "5303              Sheepshead Bay, Brooklyn       Swimming   \n",
       "2257         Manguinhos, Ilha Feia, Búzios    Windsurfing   \n",
       "2714      New Smyrna Beach, Volusia County        Surfing   \n",
       "1423  Isla Blanca Park, South Padre Island        Surfing   \n",
       "\n",
       "                           Name Sex   Age                          Injury  \\\n",
       "5904                        NaN    M  NaN  Hand injured PROVOKED INCIDENT   \n",
       "5303            Thomas Richards    M  NaN                   Ankle bruised   \n",
       "2257  João Pedro Portinari Leão    M   22   Lower left leg & ankle bitten   \n",
       "2714               Chris Garvin    M   21             Lacerations to foot   \n",
       "1423              Freddy Torres    M  NaN   Lacerations to lower left leg   \n",
       "\n",
       "     Fatal (Y/N)       Time                    Species   \\\n",
       "5904           N        NaN                         NaN   \n",
       "5303           N        NaN                         NaN   \n",
       "2257           N        NaN  3.7m  to 4.2 m white shark   \n",
       "2714           N  Afternoon                    5' shark   \n",
       "1423           N        NaN              1' to 4' shark   \n",
       "\n",
       "          Investigator or Source                            pdf  \\\n",
       "5904   New York Times, 8/26/1871  1871.08.00-SharkFisherman.pdf   \n",
       "5303       NY Tribune, 7/14/1916      1916.07.13.a-Richards.pdf   \n",
       "2257  O. Gadig; Globo, 4/24/1997            1997.04.20-Leao.pdf   \n",
       "2714     News-Journal, 9/29/1988          1988.09.28-Garvin.pdf   \n",
       "1423          M. Martinez, KGBT4          2006.10.07-Torres.pdf   \n",
       "\n",
       "                                           href formula  \\\n",
       "5904  http://sharkattackfile.net/spreadsheets/pdf_di...   \n",
       "5303  http://sharkattackfile.net/spreadsheets/pdf_di...   \n",
       "2257  http://sharkattackfile.net/spreadsheets/pdf_di...   \n",
       "2714  http://sharkattackfile.net/spreadsheets/pdf_di...   \n",
       "1423  http://sharkattackfile.net/spreadsheets/pdf_di...   \n",
       "\n",
       "                                                   href Case Number.1  \\\n",
       "5904  http://sharkattackfile.net/spreadsheets/pdf_di...    1871.08.00   \n",
       "5303  http://sharkattackfile.net/spreadsheets/pdf_di...    1916.07.13   \n",
       "2257  http://sharkattackfile.net/spreadsheets/pdf_di...    1997.04.20   \n",
       "2714  http://sharkattackfile.net/spreadsheets/pdf_di...    1988.09.28   \n",
       "1423  http://sharkattackfile.net/spreadsheets/pdf_di...    2006.10.07   \n",
       "\n",
       "     Case Number.2  original order Unnamed: 22 Unnamed: 23  \n",
       "5904    1871.08.00           399.0         NaN         NaN  \n",
       "5303    1916.07.13          1000.0         NaN         NaN  \n",
       "2257    1997.04.20          4046.0         NaN         NaN  \n",
       "2714    1988.09.28          3589.0         NaN         NaN  \n",
       "1423    2006.10.07          4880.0         NaN         NaN  "
      ]
     },
     "execution_count": 32,
     "metadata": {},
     "output_type": "execute_result"
    }
   ],
   "source": [
    "df_cleaning.sample(5)"
   ]
  },
  {
   "cell_type": "code",
   "execution_count": 33,
   "id": "b2ed0ca5-5115-4815-bb56-616a16bf52ef",
   "metadata": {},
   "outputs": [],
   "source": [
    "#data[\"Country\"].value_counts().plot.bar()"
   ]
  },
  {
   "cell_type": "code",
   "execution_count": 34,
   "id": "2e83b6f3-0381-490a-ac0a-ee401643478e",
   "metadata": {},
   "outputs": [],
   "source": [
    "# Con regex es posible tomar todos los valores que sean exclusivamente numéricos y el resto pasarlos a NaN\n",
    "# Puedes reemplazar NaN por la media"
   ]
  },
  {
   "cell_type": "code",
   "execution_count": 35,
   "id": "31539ee6-f3c8-47bc-9396-7981e79b0892",
   "metadata": {},
   "outputs": [
    {
     "data": {
      "text/plain": [
       "Index(['Case Number', 'Date', 'Year', 'Type', 'Country', 'Area', 'Location',\n",
       "       'Activity', 'Name', 'Sex ', 'Age', 'Injury', 'Fatal (Y/N)', 'Time',\n",
       "       'Species ', 'Investigator or Source', 'pdf', 'href formula', 'href',\n",
       "       'Case Number.1', 'Case Number.2', 'original order', 'Unnamed: 22',\n",
       "       'Unnamed: 23'],\n",
       "      dtype='object')"
      ]
     },
     "execution_count": 35,
     "metadata": {},
     "output_type": "execute_result"
    }
   ],
   "source": [
    "df_cleaning.columns"
   ]
  },
  {
   "cell_type": "code",
   "execution_count": 36,
   "id": "715dc284-9a90-48ee-929b-6b8efce39cc8",
   "metadata": {},
   "outputs": [],
   "source": [
    "#Creo nueva variable df_cleaning y empiezo a verlo más claro"
   ]
  },
  {
   "cell_type": "code",
   "execution_count": 37,
   "id": "0ed730a1-9e3a-4c7d-bbfa-03d3fbe6edc5",
   "metadata": {},
   "outputs": [],
   "source": [
    "# Para varias columnas, doble corchete\n",
    "#df_cleaning = df_cleaning[['Date', 'Year', 'Type', 'Country', 'Area',\n",
    "#       'Activity', 'Sex ', 'Age', 'Fatal (Y/N)']].reset_index(drop=True)"
   ]
  },
  {
   "cell_type": "code",
   "execution_count": null,
   "id": "a97834cf-58d0-4b5c-b855-748ff94df695",
   "metadata": {},
   "outputs": [],
   "source": []
  },
  {
   "cell_type": "code",
   "execution_count": 38,
   "id": "cbc921fa-5385-4fdb-9251-63699ab6a534",
   "metadata": {},
   "outputs": [],
   "source": [
    "#Con este gráfico empiezo a darme cuenta que los hombres son más atacados que las mujeres"
   ]
  },
  {
   "cell_type": "code",
   "execution_count": 39,
   "id": "d4c5d5e6-08cb-4d79-8cca-d84308ccee7f",
   "metadata": {},
   "outputs": [
    {
     "data": {
      "text/plain": [
       "Index(['Case Number', 'Date', 'Year', 'Type', 'Country', 'Area', 'Location',\n",
       "       'Activity', 'Name', 'Sex ', 'Age', 'Injury', 'Fatal (Y/N)', 'Time',\n",
       "       'Species ', 'Investigator or Source', 'pdf', 'href formula', 'href',\n",
       "       'Case Number.1', 'Case Number.2', 'original order', 'Unnamed: 22',\n",
       "       'Unnamed: 23'],\n",
       "      dtype='object')"
      ]
     },
     "execution_count": 39,
     "metadata": {},
     "output_type": "execute_result"
    }
   ],
   "source": [
    "df_cleaning.columns"
   ]
  },
  {
   "cell_type": "code",
   "execution_count": 40,
   "id": "843e7d9c-4957-4035-bfe0-29c0c41cf02f",
   "metadata": {},
   "outputs": [
    {
     "data": {
      "text/plain": [
       "Type                         0\n",
       "Case Number                  1\n",
       "original order               2\n",
       "Date                         9\n",
       "Case Number.2                9\n",
       "Case Number.1                9\n",
       "href                         9\n",
       "pdf                          9\n",
       "href formula                10\n",
       "Year                        11\n",
       "Investigator or Source      26\n",
       "Injury                      37\n",
       "Country                     59\n",
       "Name                       219\n",
       "Area                       464\n",
       "Fatal (Y/N)                548\n",
       "Location                   549\n",
       "Activity                   553\n",
       "Sex                        574\n",
       "Age                       2840\n",
       "Species                   2847\n",
       "Time                      3363\n",
       "Unnamed: 23               6309\n",
       "Unnamed: 22               6310\n",
       "dtype: int64"
      ]
     },
     "execution_count": 40,
     "metadata": {},
     "output_type": "execute_result"
    }
   ],
   "source": [
    "df_cleaning.isnull().sum().sort_values()"
   ]
  },
  {
   "cell_type": "markdown",
   "id": "394099b9-bbb5-4259-905a-cab2989a07ad",
   "metadata": {},
   "source": [
    "### Convertir a numéricos"
   ]
  },
  {
   "cell_type": "code",
   "execution_count": 41,
   "id": "d3860fd5-d273-45d4-9785-9b2ab9d501e8",
   "metadata": {},
   "outputs": [],
   "source": [
    "#Seguimos limpiando convirtiendo columnas con datos numéricos a su formato adecuado "
   ]
  },
  {
   "cell_type": "code",
   "execution_count": 42,
   "id": "049fce1c-4a4a-4834-a7d0-9722f76958fd",
   "metadata": {},
   "outputs": [],
   "source": [
    "#Por ejemplo: La columna 'Year' a int."
   ]
  },
  {
   "cell_type": "code",
   "execution_count": 43,
   "id": "1c853c28-e5be-4046-a204-86641d9e34f2",
   "metadata": {},
   "outputs": [
    {
     "data": {
      "text/html": [
       "<div>\n",
       "<style scoped>\n",
       "    .dataframe tbody tr th:only-of-type {\n",
       "        vertical-align: middle;\n",
       "    }\n",
       "\n",
       "    .dataframe tbody tr th {\n",
       "        vertical-align: top;\n",
       "    }\n",
       "\n",
       "    .dataframe thead th {\n",
       "        text-align: right;\n",
       "    }\n",
       "</style>\n",
       "<table border=\"1\" class=\"dataframe\">\n",
       "  <thead>\n",
       "    <tr style=\"text-align: right;\">\n",
       "      <th></th>\n",
       "      <th>Case Number</th>\n",
       "      <th>Date</th>\n",
       "      <th>Year</th>\n",
       "      <th>Type</th>\n",
       "      <th>Country</th>\n",
       "      <th>Area</th>\n",
       "      <th>Location</th>\n",
       "      <th>Activity</th>\n",
       "      <th>Name</th>\n",
       "      <th>Sex</th>\n",
       "      <th>Age</th>\n",
       "      <th>Injury</th>\n",
       "      <th>Fatal (Y/N)</th>\n",
       "      <th>Time</th>\n",
       "      <th>Species</th>\n",
       "      <th>Investigator or Source</th>\n",
       "      <th>pdf</th>\n",
       "      <th>href formula</th>\n",
       "      <th>href</th>\n",
       "      <th>Case Number.1</th>\n",
       "      <th>Case Number.2</th>\n",
       "      <th>original order</th>\n",
       "      <th>Unnamed: 22</th>\n",
       "      <th>Unnamed: 23</th>\n",
       "    </tr>\n",
       "  </thead>\n",
       "  <tbody>\n",
       "    <tr>\n",
       "      <th>159</th>\n",
       "      <td>2017.04.12.a</td>\n",
       "      <td>12-Apr-2017</td>\n",
       "      <td>2017.0</td>\n",
       "      <td>Invalid</td>\n",
       "      <td>SOUTH AFRICA</td>\n",
       "      <td>KwaZulu-Natal</td>\n",
       "      <td>Protea Banks</td>\n",
       "      <td>Scuba Diving</td>\n",
       "      <td>Leopold Mairhuber</td>\n",
       "      <td>M</td>\n",
       "      <td>68</td>\n",
       "      <td>Fatal, coroner unable to determine if the dive...</td>\n",
       "      <td>NaN</td>\n",
       "      <td>NaN</td>\n",
       "      <td>Shark involvement prior to death not confirmed</td>\n",
       "      <td>E. Ritter, GSAF</td>\n",
       "      <td>2017.04.12.a-Mairhuber.pdf</td>\n",
       "      <td>http://sharkattackfile.net/spreadsheets/pdf_di...</td>\n",
       "      <td>http://sharkattackfile.net/spreadsheets/pdf_di...</td>\n",
       "      <td>2017.04.12.a</td>\n",
       "      <td>2017.04.12.a</td>\n",
       "      <td>6144.0</td>\n",
       "      <td>NaN</td>\n",
       "      <td>NaN</td>\n",
       "    </tr>\n",
       "    <tr>\n",
       "      <th>5061</th>\n",
       "      <td>1929.12.03.R</td>\n",
       "      <td>Reported 03-Dec-1929</td>\n",
       "      <td>1929.0</td>\n",
       "      <td>Unprovoked</td>\n",
       "      <td>AUSTRALIA</td>\n",
       "      <td>Queensland</td>\n",
       "      <td>Townsville</td>\n",
       "      <td>NaN</td>\n",
       "      <td>male</td>\n",
       "      <td>M</td>\n",
       "      <td>50s</td>\n",
       "      <td>FATAL</td>\n",
       "      <td>Y</td>\n",
       "      <td>NaN</td>\n",
       "      <td>NaN</td>\n",
       "      <td>Brisbane Courier, 12/3/1929</td>\n",
       "      <td>1929.12.03.R-Unidentified.pdf</td>\n",
       "      <td>http://sharkattackfile.net/spreadsheets/pdf_di...</td>\n",
       "      <td>http://sharkattackfile.net/spreadsheets/pdf_di...</td>\n",
       "      <td>1929.12.03.R</td>\n",
       "      <td>1929.12.03.R</td>\n",
       "      <td>1242.0</td>\n",
       "      <td>NaN</td>\n",
       "      <td>NaN</td>\n",
       "    </tr>\n",
       "    <tr>\n",
       "      <th>5191</th>\n",
       "      <td>1924.01.25</td>\n",
       "      <td>25-Jan-1924</td>\n",
       "      <td>1924.0</td>\n",
       "      <td>Unprovoked</td>\n",
       "      <td>SOUTH AFRICA</td>\n",
       "      <td>Eastern Cape Province</td>\n",
       "      <td>St. Georges Strand, Port Elizabeth</td>\n",
       "      <td>Swimming</td>\n",
       "      <td>male</td>\n",
       "      <td>M</td>\n",
       "      <td>NaN</td>\n",
       "      <td>Foot lacerated</td>\n",
       "      <td>N</td>\n",
       "      <td>Afternoon</td>\n",
       "      <td>NaN</td>\n",
       "      <td>Eastern Province Herald, 1/28/1924, M. Levine,...</td>\n",
       "      <td>1924.01.25-StGeorgesStrand.pdf</td>\n",
       "      <td>http://sharkattackfile.net/spreadsheets/pdf_di...</td>\n",
       "      <td>http://sharkattackfile.net/spreadsheets/pdf_di...</td>\n",
       "      <td>1924.01.25</td>\n",
       "      <td>1924.01.25</td>\n",
       "      <td>1112.0</td>\n",
       "      <td>NaN</td>\n",
       "      <td>NaN</td>\n",
       "    </tr>\n",
       "    <tr>\n",
       "      <th>4273</th>\n",
       "      <td>1955.12.31</td>\n",
       "      <td>Reported 31-Dec-1955</td>\n",
       "      <td>1955.0</td>\n",
       "      <td>Boating</td>\n",
       "      <td>AUSTRALIA</td>\n",
       "      <td>Tasmania</td>\n",
       "      <td>NaN</td>\n",
       "      <td>Ocean racing</td>\n",
       "      <td>yacht Even</td>\n",
       "      <td>NaN</td>\n",
       "      <td>NaN</td>\n",
       "      <td>No injury to occupants, shark gouged hull</td>\n",
       "      <td>N</td>\n",
       "      <td>NaN</td>\n",
       "      <td>NaN</td>\n",
       "      <td>C. Black, GSAF</td>\n",
       "      <td>1955.12.31.R-Even.pdf</td>\n",
       "      <td>http://sharkattackfile.net/spreadsheets/pdf_di...</td>\n",
       "      <td>http://sharkattackfile.net/spreadsheets/pdf_di...</td>\n",
       "      <td>1955.12.31</td>\n",
       "      <td>1955.12.31</td>\n",
       "      <td>2030.0</td>\n",
       "      <td>NaN</td>\n",
       "      <td>NaN</td>\n",
       "    </tr>\n",
       "    <tr>\n",
       "      <th>3103</th>\n",
       "      <td>1979.03.11</td>\n",
       "      <td>11-Mar-1979</td>\n",
       "      <td>1979.0</td>\n",
       "      <td>Unprovoked</td>\n",
       "      <td>USA</td>\n",
       "      <td>California</td>\n",
       "      <td>Ano Nuevo Island, San Mateo, County</td>\n",
       "      <td>Scuba diving (submerged)</td>\n",
       "      <td>Calvin Sloan</td>\n",
       "      <td>M</td>\n",
       "      <td>NaN</td>\n",
       "      <td>No injury, swim fin bitten</td>\n",
       "      <td>N</td>\n",
       "      <td>10h00</td>\n",
       "      <td>White shark, 4 m to 5 m [13' to 16.5']</td>\n",
       "      <td>D. Miller &amp; R. Collier, R. Collier, p.76</td>\n",
       "      <td>1979.03.11-CalvinSloan_Collier.pdf</td>\n",
       "      <td>http://sharkattackfile.net/spreadsheets/pdf_di...</td>\n",
       "      <td>http://sharkattackfile.net/spreadsheets/pdf_di...</td>\n",
       "      <td>1979.03.11</td>\n",
       "      <td>1979.03.11</td>\n",
       "      <td>3200.0</td>\n",
       "      <td>NaN</td>\n",
       "      <td>NaN</td>\n",
       "    </tr>\n",
       "  </tbody>\n",
       "</table>\n",
       "</div>"
      ],
      "text/plain": [
       "       Case Number                  Date    Year        Type       Country  \\\n",
       "159   2017.04.12.a           12-Apr-2017  2017.0     Invalid  SOUTH AFRICA   \n",
       "5061  1929.12.03.R  Reported 03-Dec-1929  1929.0  Unprovoked     AUSTRALIA   \n",
       "5191    1924.01.25           25-Jan-1924  1924.0  Unprovoked  SOUTH AFRICA   \n",
       "4273    1955.12.31  Reported 31-Dec-1955  1955.0     Boating     AUSTRALIA   \n",
       "3103    1979.03.11           11-Mar-1979  1979.0  Unprovoked           USA   \n",
       "\n",
       "                       Area                             Location  \\\n",
       "159           KwaZulu-Natal                         Protea Banks   \n",
       "5061             Queensland                           Townsville   \n",
       "5191  Eastern Cape Province  St. Georges Strand, Port Elizabeth   \n",
       "4273               Tasmania                                  NaN   \n",
       "3103             California  Ano Nuevo Island, San Mateo, County   \n",
       "\n",
       "                      Activity               Name Sex   Age  \\\n",
       "159               Scuba Diving  Leopold Mairhuber    M   68   \n",
       "5061                       NaN               male    M  50s   \n",
       "5191                  Swimming               male    M  NaN   \n",
       "4273              Ocean racing         yacht Even  NaN  NaN   \n",
       "3103  Scuba diving (submerged)       Calvin Sloan    M  NaN   \n",
       "\n",
       "                                                 Injury Fatal (Y/N)  \\\n",
       "159   Fatal, coroner unable to determine if the dive...         NaN   \n",
       "5061                                              FATAL           Y   \n",
       "5191                                     Foot lacerated           N   \n",
       "4273          No injury to occupants, shark gouged hull           N   \n",
       "3103                         No injury, swim fin bitten           N   \n",
       "\n",
       "           Time                                        Species   \\\n",
       "159         NaN  Shark involvement prior to death not confirmed   \n",
       "5061        NaN                                             NaN   \n",
       "5191  Afternoon                                             NaN   \n",
       "4273        NaN                                             NaN   \n",
       "3103      10h00         White shark, 4 m to 5 m [13' to 16.5']    \n",
       "\n",
       "                                 Investigator or Source  \\\n",
       "159                                     E. Ritter, GSAF   \n",
       "5061                        Brisbane Courier, 12/3/1929   \n",
       "5191  Eastern Province Herald, 1/28/1924, M. Levine,...   \n",
       "4273                                     C. Black, GSAF   \n",
       "3103           D. Miller & R. Collier, R. Collier, p.76   \n",
       "\n",
       "                                     pdf  \\\n",
       "159           2017.04.12.a-Mairhuber.pdf   \n",
       "5061       1929.12.03.R-Unidentified.pdf   \n",
       "5191      1924.01.25-StGeorgesStrand.pdf   \n",
       "4273               1955.12.31.R-Even.pdf   \n",
       "3103  1979.03.11-CalvinSloan_Collier.pdf   \n",
       "\n",
       "                                           href formula  \\\n",
       "159   http://sharkattackfile.net/spreadsheets/pdf_di...   \n",
       "5061  http://sharkattackfile.net/spreadsheets/pdf_di...   \n",
       "5191  http://sharkattackfile.net/spreadsheets/pdf_di...   \n",
       "4273  http://sharkattackfile.net/spreadsheets/pdf_di...   \n",
       "3103  http://sharkattackfile.net/spreadsheets/pdf_di...   \n",
       "\n",
       "                                                   href Case Number.1  \\\n",
       "159   http://sharkattackfile.net/spreadsheets/pdf_di...  2017.04.12.a   \n",
       "5061  http://sharkattackfile.net/spreadsheets/pdf_di...  1929.12.03.R   \n",
       "5191  http://sharkattackfile.net/spreadsheets/pdf_di...    1924.01.25   \n",
       "4273  http://sharkattackfile.net/spreadsheets/pdf_di...    1955.12.31   \n",
       "3103  http://sharkattackfile.net/spreadsheets/pdf_di...    1979.03.11   \n",
       "\n",
       "     Case Number.2  original order Unnamed: 22 Unnamed: 23  \n",
       "159   2017.04.12.a          6144.0         NaN         NaN  \n",
       "5061  1929.12.03.R          1242.0         NaN         NaN  \n",
       "5191    1924.01.25          1112.0         NaN         NaN  \n",
       "4273    1955.12.31          2030.0         NaN         NaN  \n",
       "3103    1979.03.11          3200.0         NaN         NaN  "
      ]
     },
     "execution_count": 43,
     "metadata": {},
     "output_type": "execute_result"
    }
   ],
   "source": [
    "df_cleaning.sample(5)"
   ]
  },
  {
   "cell_type": "code",
   "execution_count": 44,
   "id": "c92a92d1-635f-4212-b0b1-f8e1185f7d26",
   "metadata": {},
   "outputs": [],
   "source": [
    "# limpio los NaNs"
   ]
  },
  {
   "cell_type": "code",
   "execution_count": 19,
   "id": "acb48aa9-1404-4cad-88d7-ed8dfba7233b",
   "metadata": {},
   "outputs": [
    {
     "data": {
      "text/plain": [
       "<AxesSubplot: >"
      ]
     },
     "execution_count": 19,
     "metadata": {},
     "output_type": "execute_result"
    },
    {
     "data": {
      "image/png": "[encoded data removed]",
      "text/plain": [
       "<Figure size 640x480 with 1 Axes>"
      ]
     },
     "metadata": {},
     "output_type": "display_data"
    }
   ],
   "source": [
    "data.isnull().sum().plot.bar()"
   ]
  },
  {
   "cell_type": "code",
   "execution_count": 46,
   "id": "04f4fbd3-a152-4111-8f3b-c7a82819ff7a",
   "metadata": {},
   "outputs": [],
   "source": [
    "# Limpieza de fecha"
   ]
  },
  {
   "cell_type": "code",
   "execution_count": 46,
   "id": "ff29138b-5a58-464d-bc4e-4f89d2405e42",
   "metadata": {},
   "outputs": [],
   "source": [
    "df_cleaning['Year'] = df_cleaning['Year'].fillna('UKNOWN')\n",
    "df_cleaning = df_cleaning[df_cleaning['Year'] != 'UKNOWN']"
   ]
  },
  {
   "cell_type": "code",
   "execution_count": 47,
   "id": "7ea85633-225d-426c-a2bb-c4dc245cd1ab",
   "metadata": {},
   "outputs": [],
   "source": [
    "df_cleaning['Year'] = df_cleaning['Year'].replace(r'\\.0', '', regex=True)"
   ]
  },
  {
   "cell_type": "code",
   "execution_count": 48,
   "id": "727b8db6-8c32-47ff-87b7-25a8b9464690",
   "metadata": {},
   "outputs": [],
   "source": [
    "df_cleaning['Year'] = df_cleaning['Year'].astype(int)"
   ]
  },
  {
   "cell_type": "code",
   "execution_count": 49,
   "id": "3d2083ad-2a62-45a7-8b5d-bdf77bb771fa",
   "metadata": {},
   "outputs": [
    {
     "data": {
      "text/plain": [
       "0       2018\n",
       "1       2018\n",
       "2       2018\n",
       "3       2018\n",
       "4       2018\n",
       "        ... \n",
       "6297       0\n",
       "6298       0\n",
       "6299       0\n",
       "6300       0\n",
       "6301       0\n",
       "Name: Year, Length: 6300, dtype: int64"
      ]
     },
     "execution_count": 49,
     "metadata": {},
     "output_type": "execute_result"
    }
   ],
   "source": [
    "df_cleaning['Year']"
   ]
  },
  {
   "cell_type": "code",
   "execution_count": 50,
   "id": "a080cd94-cd70-45d2-ad24-4ca2ce5c7c18",
   "metadata": {},
   "outputs": [
    {
     "data": {
      "text/html": [
       "<div>\n",
       "<style scoped>\n",
       "    .dataframe tbody tr th:only-of-type {\n",
       "        vertical-align: middle;\n",
       "    }\n",
       "\n",
       "    .dataframe tbody tr th {\n",
       "        vertical-align: top;\n",
       "    }\n",
       "\n",
       "    .dataframe thead th {\n",
       "        text-align: right;\n",
       "    }\n",
       "</style>\n",
       "<table border=\"1\" class=\"dataframe\">\n",
       "  <thead>\n",
       "    <tr style=\"text-align: right;\">\n",
       "      <th></th>\n",
       "      <th>Case Number</th>\n",
       "      <th>Date</th>\n",
       "      <th>Year</th>\n",
       "      <th>Type</th>\n",
       "      <th>Country</th>\n",
       "      <th>Area</th>\n",
       "      <th>Location</th>\n",
       "      <th>Activity</th>\n",
       "      <th>Name</th>\n",
       "      <th>Sex</th>\n",
       "      <th>Age</th>\n",
       "      <th>Injury</th>\n",
       "      <th>Fatal (Y/N)</th>\n",
       "      <th>Time</th>\n",
       "      <th>Species</th>\n",
       "      <th>Investigator or Source</th>\n",
       "      <th>pdf</th>\n",
       "      <th>href formula</th>\n",
       "      <th>href</th>\n",
       "      <th>Case Number.1</th>\n",
       "      <th>Case Number.2</th>\n",
       "      <th>original order</th>\n",
       "      <th>Unnamed: 22</th>\n",
       "      <th>Unnamed: 23</th>\n",
       "    </tr>\n",
       "  </thead>\n",
       "  <tbody>\n",
       "    <tr>\n",
       "      <th>0</th>\n",
       "      <td>2018.06.25</td>\n",
       "      <td>25-Jun-2018</td>\n",
       "      <td>2018</td>\n",
       "      <td>Boating</td>\n",
       "      <td>USA</td>\n",
       "      <td>California</td>\n",
       "      <td>Oceanside, San Diego County</td>\n",
       "      <td>Paddling</td>\n",
       "      <td>Julie Wolfe</td>\n",
       "      <td>F</td>\n",
       "      <td>57</td>\n",
       "      <td>No injury to occupant, outrigger canoe and pad...</td>\n",
       "      <td>N</td>\n",
       "      <td>18h00</td>\n",
       "      <td>White shark</td>\n",
       "      <td>R. Collier, GSAF</td>\n",
       "      <td>2018.06.25-Wolfe.pdf</td>\n",
       "      <td>http://sharkattackfile.net/spreadsheets/pdf_di...</td>\n",
       "      <td>http://sharkattackfile.net/spreadsheets/pdf_di...</td>\n",
       "      <td>2018.06.25</td>\n",
       "      <td>2018.06.25</td>\n",
       "      <td>6303.0</td>\n",
       "      <td>NaN</td>\n",
       "      <td>NaN</td>\n",
       "    </tr>\n",
       "    <tr>\n",
       "      <th>1</th>\n",
       "      <td>2018.06.18</td>\n",
       "      <td>18-Jun-2018</td>\n",
       "      <td>2018</td>\n",
       "      <td>Unprovoked</td>\n",
       "      <td>USA</td>\n",
       "      <td>Georgia</td>\n",
       "      <td>St. Simon Island, Glynn County</td>\n",
       "      <td>Standing</td>\n",
       "      <td>Adyson McNeely</td>\n",
       "      <td>F</td>\n",
       "      <td>11</td>\n",
       "      <td>Minor injury to left thigh</td>\n",
       "      <td>N</td>\n",
       "      <td>14h00  -15h00</td>\n",
       "      <td>NaN</td>\n",
       "      <td>K.McMurray, TrackingSharks.com</td>\n",
       "      <td>2018.06.18-McNeely.pdf</td>\n",
       "      <td>http://sharkattackfile.net/spreadsheets/pdf_di...</td>\n",
       "      <td>http://sharkattackfile.net/spreadsheets/pdf_di...</td>\n",
       "      <td>2018.06.18</td>\n",
       "      <td>2018.06.18</td>\n",
       "      <td>6302.0</td>\n",
       "      <td>NaN</td>\n",
       "      <td>NaN</td>\n",
       "    </tr>\n",
       "    <tr>\n",
       "      <th>2</th>\n",
       "      <td>2018.06.09</td>\n",
       "      <td>09-Jun-2018</td>\n",
       "      <td>2018</td>\n",
       "      <td>Invalid</td>\n",
       "      <td>USA</td>\n",
       "      <td>Hawaii</td>\n",
       "      <td>Habush, Oahu</td>\n",
       "      <td>Surfing</td>\n",
       "      <td>John Denges</td>\n",
       "      <td>M</td>\n",
       "      <td>48</td>\n",
       "      <td>Injury to left lower leg from surfboard skeg</td>\n",
       "      <td>N</td>\n",
       "      <td>07h45</td>\n",
       "      <td>NaN</td>\n",
       "      <td>K.McMurray, TrackingSharks.com</td>\n",
       "      <td>2018.06.09-Denges.pdf</td>\n",
       "      <td>http://sharkattackfile.net/spreadsheets/pdf_di...</td>\n",
       "      <td>http://sharkattackfile.net/spreadsheets/pdf_di...</td>\n",
       "      <td>2018.06.09</td>\n",
       "      <td>2018.06.09</td>\n",
       "      <td>6301.0</td>\n",
       "      <td>NaN</td>\n",
       "      <td>NaN</td>\n",
       "    </tr>\n",
       "    <tr>\n",
       "      <th>3</th>\n",
       "      <td>2018.06.08</td>\n",
       "      <td>08-Jun-2018</td>\n",
       "      <td>2018</td>\n",
       "      <td>Unprovoked</td>\n",
       "      <td>AUSTRALIA</td>\n",
       "      <td>New South Wales</td>\n",
       "      <td>Arrawarra Headland</td>\n",
       "      <td>Surfing</td>\n",
       "      <td>male</td>\n",
       "      <td>M</td>\n",
       "      <td>NaN</td>\n",
       "      <td>Minor injury to lower leg</td>\n",
       "      <td>N</td>\n",
       "      <td>NaN</td>\n",
       "      <td>2 m shark</td>\n",
       "      <td>B. Myatt, GSAF</td>\n",
       "      <td>2018.06.08-Arrawarra.pdf</td>\n",
       "      <td>http://sharkattackfile.net/spreadsheets/pdf_di...</td>\n",
       "      <td>http://sharkattackfile.net/spreadsheets/pdf_di...</td>\n",
       "      <td>2018.06.08</td>\n",
       "      <td>2018.06.08</td>\n",
       "      <td>6300.0</td>\n",
       "      <td>NaN</td>\n",
       "      <td>NaN</td>\n",
       "    </tr>\n",
       "    <tr>\n",
       "      <th>4</th>\n",
       "      <td>2018.06.04</td>\n",
       "      <td>04-Jun-2018</td>\n",
       "      <td>2018</td>\n",
       "      <td>Provoked</td>\n",
       "      <td>MEXICO</td>\n",
       "      <td>Colima</td>\n",
       "      <td>La Ticla</td>\n",
       "      <td>Free diving</td>\n",
       "      <td>Gustavo Ramos</td>\n",
       "      <td>M</td>\n",
       "      <td>NaN</td>\n",
       "      <td>Lacerations to leg &amp; hand shark PROVOKED INCIDENT</td>\n",
       "      <td>N</td>\n",
       "      <td>NaN</td>\n",
       "      <td>Tiger shark, 3m</td>\n",
       "      <td>A .Kipper</td>\n",
       "      <td>2018.06.04-Ramos.pdf</td>\n",
       "      <td>http://sharkattackfile.net/spreadsheets/pdf_di...</td>\n",
       "      <td>http://sharkattackfile.net/spreadsheets/pdf_di...</td>\n",
       "      <td>2018.06.04</td>\n",
       "      <td>2018.06.04</td>\n",
       "      <td>6299.0</td>\n",
       "      <td>NaN</td>\n",
       "      <td>NaN</td>\n",
       "    </tr>\n",
       "  </tbody>\n",
       "</table>\n",
       "</div>"
      ],
      "text/plain": [
       "  Case Number         Date  Year        Type    Country             Area  \\\n",
       "0  2018.06.25  25-Jun-2018  2018     Boating        USA       California   \n",
       "1  2018.06.18  18-Jun-2018  2018  Unprovoked        USA          Georgia   \n",
       "2  2018.06.09  09-Jun-2018  2018     Invalid        USA           Hawaii   \n",
       "3  2018.06.08  08-Jun-2018  2018  Unprovoked  AUSTRALIA  New South Wales   \n",
       "4  2018.06.04  04-Jun-2018  2018    Provoked     MEXICO           Colima   \n",
       "\n",
       "                         Location     Activity             Name Sex   Age  \\\n",
       "0     Oceanside, San Diego County     Paddling      Julie Wolfe    F   57   \n",
       "1  St. Simon Island, Glynn County     Standing  Adyson McNeely     F   11   \n",
       "2                    Habush, Oahu      Surfing      John Denges    M   48   \n",
       "3              Arrawarra Headland      Surfing             male    M  NaN   \n",
       "4                        La Ticla  Free diving   Gustavo Ramos     M  NaN   \n",
       "\n",
       "                                              Injury Fatal (Y/N)  \\\n",
       "0  No injury to occupant, outrigger canoe and pad...           N   \n",
       "1                         Minor injury to left thigh           N   \n",
       "2       Injury to left lower leg from surfboard skeg           N   \n",
       "3                          Minor injury to lower leg           N   \n",
       "4  Lacerations to leg & hand shark PROVOKED INCIDENT           N   \n",
       "\n",
       "            Time         Species           Investigator or Source  \\\n",
       "0          18h00      White shark                R. Collier, GSAF   \n",
       "1  14h00  -15h00              NaN  K.McMurray, TrackingSharks.com   \n",
       "2          07h45              NaN  K.McMurray, TrackingSharks.com   \n",
       "3            NaN        2 m shark                  B. Myatt, GSAF   \n",
       "4            NaN  Tiger shark, 3m                       A .Kipper   \n",
       "\n",
       "                        pdf  \\\n",
       "0      2018.06.25-Wolfe.pdf   \n",
       "1    2018.06.18-McNeely.pdf   \n",
       "2     2018.06.09-Denges.pdf   \n",
       "3  2018.06.08-Arrawarra.pdf   \n",
       "4      2018.06.04-Ramos.pdf   \n",
       "\n",
       "                                        href formula  \\\n",
       "0  http://sharkattackfile.net/spreadsheets/pdf_di...   \n",
       "1  http://sharkattackfile.net/spreadsheets/pdf_di...   \n",
       "2  http://sharkattackfile.net/spreadsheets/pdf_di...   \n",
       "3  http://sharkattackfile.net/spreadsheets/pdf_di...   \n",
       "4  http://sharkattackfile.net/spreadsheets/pdf_di...   \n",
       "\n",
       "                                                href Case Number.1  \\\n",
       "0  http://sharkattackfile.net/spreadsheets/pdf_di...    2018.06.25   \n",
       "1  http://sharkattackfile.net/spreadsheets/pdf_di...    2018.06.18   \n",
       "2  http://sharkattackfile.net/spreadsheets/pdf_di...    2018.06.09   \n",
       "3  http://sharkattackfile.net/spreadsheets/pdf_di...    2018.06.08   \n",
       "4  http://sharkattackfile.net/spreadsheets/pdf_di...    2018.06.04   \n",
       "\n",
       "  Case Number.2  original order Unnamed: 22 Unnamed: 23  \n",
       "0    2018.06.25          6303.0         NaN         NaN  \n",
       "1    2018.06.18          6302.0         NaN         NaN  \n",
       "2    2018.06.09          6301.0         NaN         NaN  \n",
       "3    2018.06.08          6300.0         NaN         NaN  \n",
       "4    2018.06.04          6299.0         NaN         NaN  "
      ]
     },
     "execution_count": 50,
     "metadata": {},
     "output_type": "execute_result"
    }
   ],
   "source": [
    "df_cleaning.head(5)"
   ]
  },
  {
   "cell_type": "code",
   "execution_count": 51,
   "id": "d18087bf-0462-4849-8c81-a8aa2f2a0d43",
   "metadata": {},
   "outputs": [],
   "source": [
    "# Limpieza de edad"
   ]
  },
  {
   "cell_type": "code",
   "execution_count": 52,
   "id": "6a44fdb4-ae7b-4a51-a968-78ba8ac23f15",
   "metadata": {},
   "outputs": [],
   "source": [
    "df_cleaning['Age'] = df_cleaning['Age'].astype(str)"
   ]
  },
  {
   "cell_type": "code",
   "execution_count": 53,
   "id": "1e71d368-ca4c-4f68-95fd-e9268be75b12",
   "metadata": {},
   "outputs": [
    {
     "name": "stdout",
     "output_type": "stream",
     "text": [
      "<class 'pandas.core.series.Series'>\n",
      "Int64Index: 6300 entries, 0 to 6301\n",
      "Series name: Age\n",
      "Non-Null Count  Dtype \n",
      "--------------  ----- \n",
      "6300 non-null   object\n",
      "dtypes: object(1)\n",
      "memory usage: 98.4+ KB\n"
     ]
    }
   ],
   "source": [
    "df_cleaning['Age'].info()"
   ]
  },
  {
   "cell_type": "code",
   "execution_count": 54,
   "id": "7e0e1e5c-6f22-4ced-a98a-a76d8d967745",
   "metadata": {},
   "outputs": [],
   "source": [
    "df_cleaning['filter_age'] = df_cleaning['Age'].str.extract(r'(\\d{2})')"
   ]
  },
  {
   "cell_type": "code",
   "execution_count": 55,
   "id": "3962a644-0f94-4081-80fc-449776edc934",
   "metadata": {},
   "outputs": [
    {
     "data": {
      "text/plain": [
       "0        57\n",
       "1        11\n",
       "2        48\n",
       "3       nan\n",
       "4       nan\n",
       "       ... \n",
       "6297    nan\n",
       "6298    nan\n",
       "6299    nan\n",
       "6300    nan\n",
       "6301     15\n",
       "Name: filter_age, Length: 6300, dtype: object"
      ]
     },
     "execution_count": 55,
     "metadata": {},
     "output_type": "execute_result"
    }
   ],
   "source": [
    "df_cleaning['filter_age'].astype(str)"
   ]
  },
  {
   "cell_type": "code",
   "execution_count": 56,
   "id": "b500db67-6736-486e-aca6-f462b81c3ce9",
   "metadata": {},
   "outputs": [
    {
     "name": "stdout",
     "output_type": "stream",
     "text": [
      "['57' '11' '48' nan '18' '52' '15' '12' '32' '10' '21' '34' '30' '60' '33'\n",
      " '29' '54' '41' '37' '56' '19' '25' '69' '38' '55' '35' '46' '45' '14'\n",
      " '40' '28' '20' '24' '26' '49' '22' '31' '17' '13' '42' '50' '16' '82'\n",
      " '73' '68' '51' '39' '58' '47' '61' '65' '36' '66' '43' '72' '59' '27'\n",
      " '64' '23' '71' '44' '62' '63' '70' '53' '77' '74' '86' '84' '75' '87'\n",
      " '67' '81' '78']\n"
     ]
    }
   ],
   "source": [
    "print(df_cleaning['filter_age'].unique())"
   ]
  },
  {
   "cell_type": "code",
   "execution_count": 57,
   "id": "7fda9b5e-64d3-46ae-932a-3a06b23a0842",
   "metadata": {},
   "outputs": [
    {
     "name": "stdout",
     "output_type": "stream",
     "text": [
      "['57' '11' '48' 'nan' '18' '52' '15' '12' '32' '10' '21' '34' '30' '60'\n",
      " '33' '29' '54' '41' '37' '56' '19' '25' '69' '38' '55' '35' '46' '45'\n",
      " '14' '40s' '28' '20' '24' '26' '49' '22' '7' '31' '17' '40' '13' '42' '3'\n",
      " '8' '50' '16' '82' '73' '20s' '68' '51' '39' '58' 'Teen' '47' '61' '65'\n",
      " '36' '66' '43' '60s' '9' '72' '59' '6' '27' '64' '23' '71' '44' '62' '63'\n",
      " '70' '18 months' '53' '30s' '50s' 'teen' '77' '74' '28 & 26' '5' '86'\n",
      " '18 or 20' '12 or 13' '46 & 34' '28, 23 & 30' 'Teens' '36 & 26' '8 or 10'\n",
      " '84' '\\xa0 ' ' ' '30 or 36' '6½' '21 & ?' '75' '33 or 37' 'mid-30s'\n",
      " '23 & 20' ' 30' '7      &    31' ' 28' '20?' \"60's\" '32 & 30' '16 to 18'\n",
      " '87' '67' 'Elderly' 'mid-20s' 'Ca. 33' '74 ' '45 ' '21 or 26' '20 ' '>50'\n",
      " '18 to 22' 'adult' '9 & 12' '? & 19' '9 months' '25 to 35' '23 & 26' '1'\n",
      " '(adult)' '33 & 37' '25 or 28' '37, 67, 35, 27,  ? & 27' '21, 34,24 & 35'\n",
      " '30 & 32' '50 & 30' '17 & 35' 'X' '\"middle-age\"' '13 or 18' '34 & 19'\n",
      " '33 & 26' '2 to 3 months' 'MAKE LINE GREEN' ' 43' '81' '\"young\"' '7 or 8'\n",
      " '78' '17 & 16' 'F' 'Both 11' '9 or 10' 'young' '36 & 23' '  ' 'A.M.'\n",
      " '?    &   14' '10 or 12' '31 or 33' '2½' '13 or 14']\n"
     ]
    }
   ],
   "source": [
    "print(df_cleaning['Age'].unique())"
   ]
  },
  {
   "cell_type": "code",
   "execution_count": 58,
   "id": "dc5e94ca-aec4-46d3-b901-14efaf840158",
   "metadata": {},
   "outputs": [
    {
     "name": "stdout",
     "output_type": "stream",
     "text": [
      "{'17': 156, '18': 153, '20': 151, '19': 143, '15': 139, '16': 139, '21': 122, '22': 117, '25': 110, '24': 106, '14': 102, '13': 96, '30': 87, '28': 83, '26': 83, '23': 82, '27': 78, '29': 78, '12': 75, '32': 70, '35': 68, '10': 60, '40': 59, '31': 54, '34': 51, '38': 48, '33': 48, '36': 45, '43': 44, '37': 43, '11': 38, '42': 38, '39': 38, '41': 38, '50': 37, '52': 35, '45': 33, '47': 30, '44': 29, '49': 28, '46': 28, '48': 28, '55': 23, '51': 20, '60': 18, '54': 17, '57': 16, '58': 15, '53': 13, '61': 13, '59': 11, '56': 10, '69': 10, '63': 9, '62': 8, '68': 7, '70': 6, '65': 5, '66': 4, '64': 4, '77': 3, '71': 3, '73': 3, '74': 2, '75': 2, '78': 2, '86': 1, '84': 1, '72': 1, '87': 1, '67': 1, '81': 1, '82': 1}\n"
     ]
    }
   ],
   "source": [
    "print(dict(df_cleaning['filter_age'].value_counts()))"
   ]
  },
  {
   "cell_type": "code",
   "execution_count": 59,
   "id": "7301f0b3-e162-420b-8a7a-d5b1fdb55508",
   "metadata": {},
   "outputs": [
    {
     "data": {
      "text/plain": [
       "2979"
      ]
     },
     "execution_count": 59,
     "metadata": {},
     "output_type": "execute_result"
    }
   ],
   "source": [
    "df_cleaning['filter_age'].isna().sum() - df_cleaning['Age'].isna().sum()"
   ]
  },
  {
   "cell_type": "code",
   "execution_count": 61,
   "id": "65c1e1f6-9c85-4acd-8e88-6f446cefc473",
   "metadata": {},
   "outputs": [],
   "source": [
    "df_cleaning['Age'] = pd.to_numeric(df_cleaning['Age'], errors= 'coerce')\n",
    "df_cleaning['Age'] = df_cleaning['Age'].fillna(-1).astype(int)"
   ]
  },
  {
   "cell_type": "code",
   "execution_count": 63,
   "id": "404b058c-273f-474a-982a-6217c3dd1efa",
   "metadata": {},
   "outputs": [],
   "source": [
    "#df_cleaning.reset_index(drop=True)"
   ]
  },
  {
   "cell_type": "code",
   "execution_count": 64,
   "id": "ff63614a-a0c5-4cfd-947b-2be22cb48fc4",
   "metadata": {},
   "outputs": [],
   "source": [
    "# Sacar una nueva columna con los meses y otra con el año a partir de la columna 'Date'\n",
    "# regex 101 https://regex101.com/"
   ]
  },
  {
   "cell_type": "code",
   "execution_count": 65,
   "id": "076f2715-f752-4b2f-a71e-0b7e1cafeb25",
   "metadata": {},
   "outputs": [
    {
     "data": {
      "text/plain": [
       "0       2018\n",
       "1       2018\n",
       "2       2018\n",
       "3       2018\n",
       "4       2018\n",
       "        ... \n",
       "6297       0\n",
       "6298       0\n",
       "6299       0\n",
       "6300       0\n",
       "6301       0\n",
       "Name: Year, Length: 6300, dtype: int64"
      ]
     },
     "execution_count": 65,
     "metadata": {},
     "output_type": "execute_result"
    }
   ],
   "source": [
    "# Convertir a int\n",
    "# Tomar solo los datos que sean a partir del año 1950 por ejemplo\n",
    "df_cleaning['Year']"
   ]
  },
  {
   "cell_type": "code",
   "execution_count": 66,
   "id": "8c9a2d39-8e83-493b-af74-bbe36f31c5b8",
   "metadata": {},
   "outputs": [
    {
     "name": "stdout",
     "output_type": "stream",
     "text": [
      "CPU times: user 2 µs, sys: 0 ns, total: 2 µs\n",
      "Wall time: 6.91 µs\n"
     ]
    }
   ],
   "source": [
    "%time\n",
    "df_cleaning['dias'] = df_cleaning['Date'].str.extract(r'(\\d{2})-').replace('00', '01')"
   ]
  },
  {
   "cell_type": "code",
   "execution_count": 67,
   "id": "a633e7db-527d-4960-bcae-5e33324dca97",
   "metadata": {},
   "outputs": [],
   "source": [
    "df_cleaning['mes'] = df_cleaning['Date'].str.extract(r'-(\\w{3})-')"
   ]
  },
  {
   "cell_type": "code",
   "execution_count": 68,
   "id": "d81b9535-fbb8-43d2-936c-210e7f377bb0",
   "metadata": {},
   "outputs": [],
   "source": [
    "df_cleaning['Year'] = df_cleaning['Year'].values.astype('str')"
   ]
  },
  {
   "cell_type": "code",
   "execution_count": 69,
   "id": "841460f2-b603-4b57-9ab3-57f896d71578",
   "metadata": {},
   "outputs": [
    {
     "data": {
      "text/html": [
       "<div>\n",
       "<style scoped>\n",
       "    .dataframe tbody tr th:only-of-type {\n",
       "        vertical-align: middle;\n",
       "    }\n",
       "\n",
       "    .dataframe tbody tr th {\n",
       "        vertical-align: top;\n",
       "    }\n",
       "\n",
       "    .dataframe thead th {\n",
       "        text-align: right;\n",
       "    }\n",
       "</style>\n",
       "<table border=\"1\" class=\"dataframe\">\n",
       "  <thead>\n",
       "    <tr style=\"text-align: right;\">\n",
       "      <th></th>\n",
       "      <th>Case Number</th>\n",
       "      <th>Date</th>\n",
       "      <th>Year</th>\n",
       "      <th>Type</th>\n",
       "      <th>Country</th>\n",
       "      <th>Area</th>\n",
       "      <th>Location</th>\n",
       "      <th>Activity</th>\n",
       "      <th>Name</th>\n",
       "      <th>Sex</th>\n",
       "      <th>Age</th>\n",
       "      <th>Injury</th>\n",
       "      <th>Fatal (Y/N)</th>\n",
       "      <th>Time</th>\n",
       "      <th>Species</th>\n",
       "      <th>Investigator or Source</th>\n",
       "      <th>pdf</th>\n",
       "      <th>href formula</th>\n",
       "      <th>href</th>\n",
       "      <th>Case Number.1</th>\n",
       "      <th>Case Number.2</th>\n",
       "      <th>original order</th>\n",
       "      <th>Unnamed: 22</th>\n",
       "      <th>Unnamed: 23</th>\n",
       "      <th>filter_age</th>\n",
       "      <th>dias</th>\n",
       "      <th>mes</th>\n",
       "    </tr>\n",
       "  </thead>\n",
       "  <tbody>\n",
       "    <tr>\n",
       "      <th>0</th>\n",
       "      <td>2018.06.25</td>\n",
       "      <td>25-Jun-2018</td>\n",
       "      <td>2018</td>\n",
       "      <td>Boating</td>\n",
       "      <td>USA</td>\n",
       "      <td>California</td>\n",
       "      <td>Oceanside, San Diego County</td>\n",
       "      <td>Paddling</td>\n",
       "      <td>Julie Wolfe</td>\n",
       "      <td>F</td>\n",
       "      <td>57</td>\n",
       "      <td>No injury to occupant, outrigger canoe and pad...</td>\n",
       "      <td>N</td>\n",
       "      <td>18h00</td>\n",
       "      <td>White shark</td>\n",
       "      <td>R. Collier, GSAF</td>\n",
       "      <td>2018.06.25-Wolfe.pdf</td>\n",
       "      <td>http://sharkattackfile.net/spreadsheets/pdf_di...</td>\n",
       "      <td>http://sharkattackfile.net/spreadsheets/pdf_di...</td>\n",
       "      <td>2018.06.25</td>\n",
       "      <td>2018.06.25</td>\n",
       "      <td>6303.0</td>\n",
       "      <td>NaN</td>\n",
       "      <td>NaN</td>\n",
       "      <td>57</td>\n",
       "      <td>25</td>\n",
       "      <td>Jun</td>\n",
       "    </tr>\n",
       "    <tr>\n",
       "      <th>1</th>\n",
       "      <td>2018.06.18</td>\n",
       "      <td>18-Jun-2018</td>\n",
       "      <td>2018</td>\n",
       "      <td>Unprovoked</td>\n",
       "      <td>USA</td>\n",
       "      <td>Georgia</td>\n",
       "      <td>St. Simon Island, Glynn County</td>\n",
       "      <td>Standing</td>\n",
       "      <td>Adyson McNeely</td>\n",
       "      <td>F</td>\n",
       "      <td>11</td>\n",
       "      <td>Minor injury to left thigh</td>\n",
       "      <td>N</td>\n",
       "      <td>14h00  -15h00</td>\n",
       "      <td>NaN</td>\n",
       "      <td>K.McMurray, TrackingSharks.com</td>\n",
       "      <td>2018.06.18-McNeely.pdf</td>\n",
       "      <td>http://sharkattackfile.net/spreadsheets/pdf_di...</td>\n",
       "      <td>http://sharkattackfile.net/spreadsheets/pdf_di...</td>\n",
       "      <td>2018.06.18</td>\n",
       "      <td>2018.06.18</td>\n",
       "      <td>6302.0</td>\n",
       "      <td>NaN</td>\n",
       "      <td>NaN</td>\n",
       "      <td>11</td>\n",
       "      <td>18</td>\n",
       "      <td>Jun</td>\n",
       "    </tr>\n",
       "  </tbody>\n",
       "</table>\n",
       "</div>"
      ],
      "text/plain": [
       "  Case Number         Date  Year        Type Country        Area  \\\n",
       "0  2018.06.25  25-Jun-2018  2018     Boating     USA  California   \n",
       "1  2018.06.18  18-Jun-2018  2018  Unprovoked     USA     Georgia   \n",
       "\n",
       "                         Location  Activity             Name Sex   Age  \\\n",
       "0     Oceanside, San Diego County  Paddling      Julie Wolfe    F   57   \n",
       "1  St. Simon Island, Glynn County  Standing  Adyson McNeely     F   11   \n",
       "\n",
       "                                              Injury Fatal (Y/N)  \\\n",
       "0  No injury to occupant, outrigger canoe and pad...           N   \n",
       "1                         Minor injury to left thigh           N   \n",
       "\n",
       "            Time     Species           Investigator or Source  \\\n",
       "0          18h00  White shark                R. Collier, GSAF   \n",
       "1  14h00  -15h00          NaN  K.McMurray, TrackingSharks.com   \n",
       "\n",
       "                      pdf                                       href formula  \\\n",
       "0    2018.06.25-Wolfe.pdf  http://sharkattackfile.net/spreadsheets/pdf_di...   \n",
       "1  2018.06.18-McNeely.pdf  http://sharkattackfile.net/spreadsheets/pdf_di...   \n",
       "\n",
       "                                                href Case Number.1  \\\n",
       "0  http://sharkattackfile.net/spreadsheets/pdf_di...    2018.06.25   \n",
       "1  http://sharkattackfile.net/spreadsheets/pdf_di...    2018.06.18   \n",
       "\n",
       "  Case Number.2  original order Unnamed: 22 Unnamed: 23 filter_age dias  mes  \n",
       "0    2018.06.25          6303.0         NaN         NaN         57   25  Jun  \n",
       "1    2018.06.18          6302.0         NaN         NaN         11   18  Jun  "
      ]
     },
     "execution_count": 69,
     "metadata": {},
     "output_type": "execute_result"
    }
   ],
   "source": [
    "df_cleaning.head(2)"
   ]
  },
  {
   "cell_type": "code",
   "execution_count": 70,
   "id": "6b80e9bd-3110-4b97-b171-d1c5f8087b50",
   "metadata": {},
   "outputs": [],
   "source": [
    "df_cleaning['date_sum'] = df_cleaning['dias']+'-'+df_cleaning['mes']+'-'+df_cleaning['Year']"
   ]
  },
  {
   "cell_type": "code",
   "execution_count": 72,
   "id": "8d865ac9-9468-4b85-8db3-b19dd741b5f4",
   "metadata": {},
   "outputs": [],
   "source": [
    "df_cleaning['date_formated'] = pd.to_datetime(df_cleaning['date_sum'], errors='coerce')\n",
    "df_cleaning['date_sum'] = df_cleaning['date_sum'].fillna('UKNOWN')\n",
    "df_cleaning = df_cleaning[df_cleaning['date_sum'] != 'UKNOWN']"
   ]
  },
  {
   "cell_type": "code",
   "execution_count": 73,
   "id": "2ecd6d9d-d81b-417c-89de-944b99145a67",
   "metadata": {},
   "outputs": [],
   "source": [
    "d = df_cleaning[~df_cleaning['date_sum'].str.contains('1000')]"
   ]
  },
  {
   "cell_type": "code",
   "execution_count": 85,
   "id": "f122ef01-31fa-4c0e-a8d2-98cae463c607",
   "metadata": {},
   "outputs": [
    {
     "data": {
      "text/plain": [
       "Index(['Case Number', 'Date', 'Year', 'Type', 'Country', 'Area', 'Location',\n",
       "       'Activity', 'Name', 'Sex ', 'Age', 'Injury', 'Fatal (Y/N)', 'Time',\n",
       "       'Species ', 'Investigator or Source', 'pdf', 'href formula', 'href',\n",
       "       'Case Number.1', 'Case Number.2', 'original order', 'Unnamed: 22',\n",
       "       'Unnamed: 23', 'filter_age', 'dias', 'mes', 'date_sum',\n",
       "       'date_formated'],\n",
       "      dtype='object')"
      ]
     },
     "execution_count": 85,
     "metadata": {},
     "output_type": "execute_result"
    }
   ],
   "source": [
    "# Muestra de las columnas para seleccionarlas\n",
    "df_cleaning.columns"
   ]
  },
  {
   "cell_type": "code",
   "execution_count": 86,
   "id": "157dc7e9-51d0-4487-b7e6-9d6a1d008e58",
   "metadata": {},
   "outputs": [],
   "source": [
    "# Filtrado de columnas\n",
    "# Se seleccionan las columnas útiles para realizar el análisis\n",
    "cols_selection = ['Case Number', 'Year', 'Type', 'Country', 'Area', 'Location',\n",
    "       'Activity', 'Name', 'Sex ', 'Injury', 'Fatal (Y/N)', 'Time',\n",
    "       'Species ', 'filter_age', 'mes', 'date_sum',\n",
    "       'date_formated']"
   ]
  },
  {
   "cell_type": "code",
   "execution_count": 88,
   "id": "90fb3e8d-3d8d-4f1c-83c7-fc2fba69419a",
   "metadata": {},
   "outputs": [],
   "source": [
    "df_cleaning_filtered = df_cleaning[cols_selection]"
   ]
  },
  {
   "cell_type": "code",
   "execution_count": 89,
   "id": "7745c12f-cd31-44df-b789-be0cf94091ea",
   "metadata": {},
   "outputs": [],
   "source": [
    "# Rename columns\n",
    "df_cleaning_filtered.rename(columns = {'date_formated':'Date', 'mes': 'Month', 'Sex ': 'Sex', 'filter_age': 'Age'}, inplace = True)"
   ]
  },
  {
   "cell_type": "code",
   "execution_count": 91,
   "id": "2595c16b-2595-4091-aaa5-9bcd7862dc9f",
   "metadata": {},
   "outputs": [
    {
     "data": {
      "text/html": [
       "<div>\n",
       "<style scoped>\n",
       "    .dataframe tbody tr th:only-of-type {\n",
       "        vertical-align: middle;\n",
       "    }\n",
       "\n",
       "    .dataframe tbody tr th {\n",
       "        vertical-align: top;\n",
       "    }\n",
       "\n",
       "    .dataframe thead th {\n",
       "        text-align: right;\n",
       "    }\n",
       "</style>\n",
       "<table border=\"1\" class=\"dataframe\">\n",
       "  <thead>\n",
       "    <tr style=\"text-align: right;\">\n",
       "      <th></th>\n",
       "      <th>Case Number</th>\n",
       "      <th>Year</th>\n",
       "      <th>Type</th>\n",
       "      <th>Country</th>\n",
       "      <th>Area</th>\n",
       "      <th>Location</th>\n",
       "      <th>Activity</th>\n",
       "      <th>Name</th>\n",
       "      <th>Sex</th>\n",
       "      <th>Injury</th>\n",
       "      <th>Fatal (Y/N)</th>\n",
       "      <th>Time</th>\n",
       "      <th>Species</th>\n",
       "      <th>Age</th>\n",
       "      <th>Month</th>\n",
       "      <th>date_sum</th>\n",
       "      <th>Date</th>\n",
       "    </tr>\n",
       "  </thead>\n",
       "  <tbody>\n",
       "    <tr>\n",
       "      <th>0</th>\n",
       "      <td>2018.06.25</td>\n",
       "      <td>2018</td>\n",
       "      <td>Boating</td>\n",
       "      <td>USA</td>\n",
       "      <td>California</td>\n",
       "      <td>Oceanside, San Diego County</td>\n",
       "      <td>Paddling</td>\n",
       "      <td>Julie Wolfe</td>\n",
       "      <td>F</td>\n",
       "      <td>No injury to occupant, outrigger canoe and pad...</td>\n",
       "      <td>N</td>\n",
       "      <td>18h00</td>\n",
       "      <td>White shark</td>\n",
       "      <td>57</td>\n",
       "      <td>Jun</td>\n",
       "      <td>25-Jun-2018</td>\n",
       "      <td>2018-06-25</td>\n",
       "    </tr>\n",
       "    <tr>\n",
       "      <th>1</th>\n",
       "      <td>2018.06.18</td>\n",
       "      <td>2018</td>\n",
       "      <td>Unprovoked</td>\n",
       "      <td>USA</td>\n",
       "      <td>Georgia</td>\n",
       "      <td>St. Simon Island, Glynn County</td>\n",
       "      <td>Standing</td>\n",
       "      <td>Adyson McNeely</td>\n",
       "      <td>F</td>\n",
       "      <td>Minor injury to left thigh</td>\n",
       "      <td>N</td>\n",
       "      <td>14h00  -15h00</td>\n",
       "      <td>NaN</td>\n",
       "      <td>11</td>\n",
       "      <td>Jun</td>\n",
       "      <td>18-Jun-2018</td>\n",
       "      <td>2018-06-18</td>\n",
       "    </tr>\n",
       "  </tbody>\n",
       "</table>\n",
       "</div>"
      ],
      "text/plain": [
       "  Case Number  Year        Type Country        Area  \\\n",
       "0  2018.06.25  2018     Boating     USA  California   \n",
       "1  2018.06.18  2018  Unprovoked     USA     Georgia   \n",
       "\n",
       "                         Location  Activity             Name Sex  \\\n",
       "0     Oceanside, San Diego County  Paddling      Julie Wolfe   F   \n",
       "1  St. Simon Island, Glynn County  Standing  Adyson McNeely    F   \n",
       "\n",
       "                                              Injury Fatal (Y/N)  \\\n",
       "0  No injury to occupant, outrigger canoe and pad...           N   \n",
       "1                         Minor injury to left thigh           N   \n",
       "\n",
       "            Time     Species  Age Month     date_sum       Date  \n",
       "0          18h00  White shark  57   Jun  25-Jun-2018 2018-06-25  \n",
       "1  14h00  -15h00          NaN  11   Jun  18-Jun-2018 2018-06-18  "
      ]
     },
     "execution_count": 91,
     "metadata": {},
     "output_type": "execute_result"
    }
   ],
   "source": [
    "df_cleaning_filtered.head(2)"
   ]
  },
  {
   "cell_type": "code",
   "execution_count": 92,
   "id": "c13c25db-72a8-4e12-87f2-6a17ae2b1de7",
   "metadata": {},
   "outputs": [],
   "source": [
    "# Limpeza del sexo"
   ]
  },
  {
   "cell_type": "code",
   "execution_count": 80,
   "id": "071963cc-7726-494d-82fe-f8a7cb8ca530",
   "metadata": {},
   "outputs": [],
   "source": [
    "df_cleaning_filtered['Sex'] = df_cleaning_filtered['Sex'].str.replace('M ', 'M').replace('lli', 'M')"
   ]
  },
  {
   "cell_type": "code",
   "execution_count": 81,
   "id": "f4c54a2c-2964-4d66-bea5-f83ec3aaab4e",
   "metadata": {},
   "outputs": [
    {
     "data": {
      "text/plain": [
       "M    4352\n",
       "F     570\n",
       "N       2\n",
       ".       1\n",
       "Name: Sex, dtype: int64"
      ]
     },
     "execution_count": 81,
     "metadata": {},
     "output_type": "execute_result"
    }
   ],
   "source": [
    "df_cleaning_filtered['Sex'].value_counts()"
   ]
  },
  {
   "cell_type": "code",
   "execution_count": 82,
   "id": "07ac015a-8d79-43a4-bbde-c9236a31539e",
   "metadata": {},
   "outputs": [],
   "source": [
    "df_final = df_cleaning_filtered"
   ]
  },
  {
   "cell_type": "markdown",
   "id": "09ac3a9b-6440-49c1-98d6-033b954d6abf",
   "metadata": {},
   "source": [
    "..."
   ]
  },
  {
   "cell_type": "code",
   "execution_count": 83,
   "id": "7c272748-6379-4d4d-9930-0f2e45c207ac",
   "metadata": {},
   "outputs": [],
   "source": [
    "name = 'clean_data.csv'"
   ]
  },
  {
   "cell_type": "code",
   "execution_count": 83,
   "id": "ff7c4264-1a6b-4926-b132-71be51b432c5",
   "metadata": {},
   "outputs": [],
   "source": [
    "df_final.to_csv(f'../data/{name}', index=False)"
   ]
  },
  {
   "cell_type": "code",
   "execution_count": null,
   "id": "c7e36dc8-1be4-446a-848f-ac31fdc5ab80",
   "metadata": {},
   "outputs": [],
   "source": []
  },
  {
   "cell_type": "code",
   "execution_count": null,
   "id": "a741e0fc-7738-4cb5-8dcb-2c60f7a79536",
   "metadata": {},
   "outputs": [],
   "source": []
  },
  {
   "cell_type": "code",
   "execution_count": null,
   "id": "0ceccd1c-e64b-49b5-a6ef-7f444d0f0195",
   "metadata": {},
   "outputs": [],
   "source": []
  },
  {
   "cell_type": "code",
   "execution_count": null,
   "id": "c3bc5fe2-df83-49dd-ba54-0b5d34dcaed0",
   "metadata": {},
   "outputs": [],
   "source": []
  },
  {
   "cell_type": "code",
   "execution_count": null,
   "id": "51ad254a-3463-4d78-a758-3daa20de0c56",
   "metadata": {},
   "outputs": [],
   "source": [
    "\n"
   ]
  },
  {
   "cell_type": "code",
   "execution_count": null,
   "id": "37e3053f-ce57-48d9-b203-107c25653a43",
   "metadata": {},
   "outputs": [],
   "source": []
  },
  {
   "cell_type": "code",
   "execution_count": null,
   "id": "10f9501a-af8e-42d5-a47d-32e4584472d4",
   "metadata": {},
   "outputs": [],
   "source": []
  },
  {
   "cell_type": "code",
   "execution_count": null,
   "id": "eed62f65-1f45-4065-b26c-f8eaec617a9d",
   "metadata": {},
   "outputs": [],
   "source": []
  }
 ],
 "metadata": {
  "kernelspec": {
   "display_name": "Python 3 (ipykernel)",
   "language": "python",
   "name": "python3"
  },
  "language_info": {
   "codemirror_mode": {
    "name": "ipython",
    "version": 3
   },
   "file_extension": ".py",
   "mimetype": "text/x-python",
   "name": "python",
   "nbconvert_exporter": "python",
   "pygments_lexer": "ipython3",
   "version": "3.10.8"
  }
 },
 "nbformat": 4,
 "nbformat_minor": 5
}
